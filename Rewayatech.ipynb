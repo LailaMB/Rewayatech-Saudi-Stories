{
  "nbformat": 4,
  "nbformat_minor": 0,
  "metadata": {
    "colab": {
      "name": "Rewayatech.ipynb",
      "provenance": [],
      "collapsed_sections": [
        "yAWfVDLJXuNx",
        "uSfurJrLTxN-",
        "2jjpAFfOEjAB",
        "nRR8XbbrlkwL",
        "RK4wFNKbfoH_",
        "vaawWBA9O90E",
        "NsGcTVHhOxrF",
        "8Bc9tYwgEc5y",
        "HK2bOuBViju1",
        "aLlZeQivGGFX",
        "2j3uDEcAmwsB",
        "m8Na3A2fGphL",
        "jFqdtKxubqd_",
        "HF9EYoWSbwxr",
        "VDW5if0yUWiy",
        "8YexlhFfWxo-",
        "tHeZ3B7GqTwJ",
        "XSdNj4vHACgo",
        "btzMi-i2q13D",
        "7erve2_oPUOg"
      ]
    },
    "kernelspec": {
      "name": "python3",
      "display_name": "Python 3"
    }
  },
  "cells": [
    {
      "cell_type": "markdown",
      "metadata": {
        "id": "yAWfVDLJXuNx",
        "colab_type": "text"
      },
      "source": [
        "### Read and Prepate the data"
      ]
    },
    {
      "cell_type": "markdown",
      "metadata": {
        "id": "uSfurJrLTxN-",
        "colab_type": "text"
      },
      "source": [
        "#### Import and install libraries\n"
      ]
    },
    {
      "cell_type": "code",
      "metadata": {
        "id": "ehILQf52pyxT",
        "colab_type": "code",
        "colab": {
          "base_uri": "https://localhost:8080/"
        },
        "outputId": "9b5dedcf-b0bb-42ad-9bb0-ef1eaf911817"
      },
      "source": [
        "!pip install arabic_reshaper\n",
        "!pip install python-bidi"
      ],
      "execution_count": null,
      "outputs": [
        {
          "output_type": "stream",
          "text": [
            "Collecting arabic_reshaper\n",
            "  Downloading https://files.pythonhosted.org/packages/41/55/e905af99b0172b5550c5e22d76b7737004495354b5f1094adf7cb2a41659/arabic_reshaper-2.1.0.tar.gz\n",
            "Requirement already satisfied: future in /usr/local/lib/python3.6/dist-packages (from arabic_reshaper) (0.16.0)\n",
            "Requirement already satisfied: setuptools in /usr/local/lib/python3.6/dist-packages (from arabic_reshaper) (49.6.0)\n",
            "Building wheels for collected packages: arabic-reshaper\n",
            "  Building wheel for arabic-reshaper (setup.py) ... \u001b[?25l\u001b[?25hdone\n",
            "  Created wheel for arabic-reshaper: filename=arabic_reshaper-2.1.0-cp36-none-any.whl size=16502 sha256=c83c976b571da2fdccdf9345ce04dfe0212a85cbe2d34626a9521c8ab9d7b79f\n",
            "  Stored in directory: /root/.cache/pip/wheels/a9/e6/ec/2ba48138d4447d40442dd6ba3bf6b92d9c6afd74e9c720c6fe\n",
            "Successfully built arabic-reshaper\n",
            "Installing collected packages: arabic-reshaper\n",
            "Successfully installed arabic-reshaper-2.1.0\n",
            "Collecting python-bidi\n",
            "  Downloading https://files.pythonhosted.org/packages/33/b0/f942d146a2f457233baaafd6bdf624eba8e0f665045b4abd69d1b62d097d/python_bidi-0.4.2-py2.py3-none-any.whl\n",
            "Requirement already satisfied: six in /usr/local/lib/python3.6/dist-packages (from python-bidi) (1.15.0)\n",
            "Installing collected packages: python-bidi\n",
            "Successfully installed python-bidi-0.4.2\n"
          ],
          "name": "stdout"
        }
      ]
    },
    {
      "cell_type": "code",
      "metadata": {
        "id": "6JAn1Psqk-yD",
        "colab_type": "code",
        "colab": {
          "base_uri": "https://localhost:8080/"
        },
        "outputId": "ef91af65-d94f-4a45-923c-bddce7a9c4ae"
      },
      "source": [
        "import pandas as pd\n",
        "import numpy as np \n",
        "\n",
        "import matplotlib.pyplot as plt\n",
        "import seaborn as sns\n",
        "from PIL import Image\n",
        "from wordcloud import WordCloud, STOPWORDS, ImageColorGenerator\n",
        "\n",
        "from sklearn.model_selection import train_test_split\n",
        "from sklearn.preprocessing import LabelEncoder\n",
        "from sklearn.feature_extraction.text import TfidfVectorizer\n",
        "from sklearn import svm\n",
        "from sklearn.linear_model import LogisticRegression\n",
        "from sklearn.model_selection import cross_val_score, cross_val_predict, KFold\n",
        "from sklearn.metrics  import confusion_matrix, classification_report, accuracy_score, roc_curve, auc\n",
        "from sklearn.manifold import TSNE\n",
        "\n",
        "\n",
        "import csv\n",
        "import re # for regular expression\n",
        "import string\n",
        "import nltk \n",
        "from nltk.corpus import stopwords\n",
        "from nltk.tokenize import word_tokenize\n",
        "from nltk.tokenize import RegexpTokenizer\n",
        "from collections import Counter \n",
        "\n",
        "from arabic_reshaper import arabic_reshaper\n",
        "from bidi.algorithm import get_display\n",
        "\n",
        "import os\n",
        "\n",
        "from tqdm import tqdm_notebook as tqdm\n",
        "\n",
        "%matplotlib inline"
      ],
      "execution_count": null,
      "outputs": [
        {
          "output_type": "stream",
          "text": [
            "/usr/local/lib/python3.6/dist-packages/statsmodels/tools/_testing.py:19: FutureWarning: pandas.util.testing is deprecated. Use the functions in the public API at pandas.testing instead.\n",
            "  import pandas.util.testing as tm\n"
          ],
          "name": "stderr"
        }
      ]
    },
    {
      "cell_type": "markdown",
      "metadata": {
        "id": "2jjpAFfOEjAB",
        "colab_type": "text"
      },
      "source": [
        "#### Read ALL novels"
      ]
    },
    {
      "cell_type": "code",
      "metadata": {
        "id": "nk1MXYtTEtM5",
        "colab_type": "code",
        "colab": {}
      },
      "source": [
        "df_story = pd.read_csv(\"/content/drive/My Drive/data/Rewayatech/stories.csv\", converters={'text': eval})"
      ],
      "execution_count": null,
      "outputs": []
    },
    {
      "cell_type": "code",
      "metadata": {
        "id": "z_F0W7obKwY1",
        "colab_type": "code",
        "colab": {
          "base_uri": "https://localhost:8080/",
          "height": 204
        },
        "outputId": "6d4762fe-e370-42fc-a4e1-18b7336eae2b"
      },
      "source": [
        "df_story.head()"
      ],
      "execution_count": null,
      "outputs": [
        {
          "output_type": "execute_result",
          "data": {
            "text/html": [
              "<div>\n",
              "<style scoped>\n",
              "    .dataframe tbody tr th:only-of-type {\n",
              "        vertical-align: middle;\n",
              "    }\n",
              "\n",
              "    .dataframe tbody tr th {\n",
              "        vertical-align: top;\n",
              "    }\n",
              "\n",
              "    .dataframe thead th {\n",
              "        text-align: right;\n",
              "    }\n",
              "</style>\n",
              "<table border=\"1\" class=\"dataframe\">\n",
              "  <thead>\n",
              "    <tr style=\"text-align: right;\">\n",
              "      <th></th>\n",
              "      <th>text</th>\n",
              "      <th>title</th>\n",
              "    </tr>\n",
              "  </thead>\n",
              "  <tbody>\n",
              "    <tr>\n",
              "      <th>0</th>\n",
              "      <td>[البارت, الاول, وها, اسرد, قصتي, قصتي, بعيون, ...</td>\n",
              "      <td>فتاة الخامسة عشر</td>\n",
              "    </tr>\n",
              "    <tr>\n",
              "      <th>1</th>\n",
              "      <td>[شادن, نشوة, رواء, رفيف, جوري, جالسه, وتامل, د...</td>\n",
              "      <td>تدرِي وش هو القرِف ؟ خاين و يحلف بالشرِف !</td>\n",
              "    </tr>\n",
              "    <tr>\n",
              "      <th>2</th>\n",
              "      <td>[ال, ال, رام, ورواج, ودرب, ودي, اب, وق, ال, اب...</td>\n",
              "      <td>يزيد بي الصوع بذكرى كنت بها المنهاني</td>\n",
              "    </tr>\n",
              "    <tr>\n",
              "      <th>3</th>\n",
              "      <td>[ابطال, الروايه, عائلة, ابو, ركان, ابو, ركان, ...</td>\n",
              "      <td>وشلون تهملني وأنا مهتم فيك هذا السؤال اللي ذ...</td>\n",
              "    </tr>\n",
              "    <tr>\n",
              "      <th>4</th>\n",
              "      <td>[تقول, خلقني, والحزن, توام, محل, رحت, يصير, ال...</td>\n",
              "      <td>ما فادني زينة ما طالني غير شين فعوله</td>\n",
              "    </tr>\n",
              "  </tbody>\n",
              "</table>\n",
              "</div>"
            ],
            "text/plain": [
              "                                                text                                              title\n",
              "0  [البارت, الاول, وها, اسرد, قصتي, قصتي, بعيون, ...                                   فتاة الخامسة عشر\n",
              "1  [شادن, نشوة, رواء, رفيف, جوري, جالسه, وتامل, د...         تدرِي وش هو القرِف ؟ خاين و يحلف بالشرِف !\n",
              "2  [ال, ال, رام, ورواج, ودرب, ودي, اب, وق, ال, اب...               يزيد بي الصوع بذكرى كنت بها المنهاني\n",
              "3  [ابطال, الروايه, عائلة, ابو, ركان, ابو, ركان, ...  وشلون تهملني وأنا مهتم فيك هذا السؤال اللي ذ...\n",
              "4  [تقول, خلقني, والحزن, توام, محل, رحت, يصير, ال...               ما فادني زينة ما طالني غير شين فعوله"
            ]
          },
          "metadata": {
            "tags": []
          },
          "execution_count": 5
        }
      ]
    },
    {
      "cell_type": "code",
      "metadata": {
        "id": "HUo78AqiHTr3",
        "colab_type": "code",
        "colab": {}
      },
      "source": [
        "# Run this cell to convert lists into strings \n",
        "df_story['text'] = df_story['text'].apply(lambda x:' '.join(x))"
      ],
      "execution_count": null,
      "outputs": []
    },
    {
      "cell_type": "code",
      "metadata": {
        "id": "9kkRx4oPpsWm",
        "colab_type": "code",
        "colab": {
          "base_uri": "https://localhost:8080/",
          "height": 68
        },
        "outputId": "272d0d9e-85e8-4c34-fc13-a0c5150d091d"
      },
      "source": [
        "df_story.count()"
      ],
      "execution_count": null,
      "outputs": [
        {
          "output_type": "execute_result",
          "data": {
            "text/plain": [
              "text     1269\n",
              "title    1269\n",
              "dtype: int64"
            ]
          },
          "metadata": {
            "tags": []
          },
          "execution_count": 70
        }
      ]
    },
    {
      "cell_type": "markdown",
      "metadata": {
        "id": "nRR8XbbrlkwL",
        "colab_type": "text"
      },
      "source": [
        "#### Read ONE novel"
      ]
    },
    {
      "cell_type": "code",
      "metadata": {
        "id": "y2AIbr89ngFI",
        "colab_type": "code",
        "colab": {
          "base_uri": "https://localhost:8080/"
        },
        "outputId": "8f9fa1d6-ddd8-4cf3-dd16-42b2acab603c"
      },
      "source": [
        "with open('/content/drive/My Drive/data/Rewayatech/novels/تحملت اللي يقولونه و قلت لخاطر عيونه .. و لا قدّر أبد طيبي تفنن هو بتعذيبي.txt', 'r', encoding=\"utf8\", errors='ignore') as f: \n",
        "  story = f.readlines()\n",
        "  \n",
        "print(\"Story length in sentences:: {}\".format(len(story)))"
      ],
      "execution_count": null,
      "outputs": [
        {
          "output_type": "stream",
          "text": [
            "Story length in sentences:: 9485\n"
          ],
          "name": "stdout"
        }
      ]
    },
    {
      "cell_type": "markdown",
      "metadata": {
        "id": "RK4wFNKbfoH_",
        "colab_type": "text"
      },
      "source": [
        "#### Clean the novels"
      ]
    },
    {
      "cell_type": "markdown",
      "metadata": {
        "id": "vaawWBA9O90E",
        "colab_type": "text"
      },
      "source": [
        "##### Cleaning functions"
      ]
    },
    {
      "cell_type": "code",
      "metadata": {
        "id": "BK_tPygQ0EEF",
        "colab_type": "code",
        "colab": {}
      },
      "source": [
        "def remove_value_from_list(story_list, value):\n",
        "  story_list[:] = (item for item in story_list if item != value)\n",
        "\n",
        "def remove_value_from_list_end_of_item(story_list, value):\n",
        "  story_list[:] = (item.strip(value) for item in story_list)\n",
        "\n",
        "def remove_values_from_list_item(story_list, values):\n",
        "  story_list[:] = (item.translate(str.maketrans('','',values)) for item in story_list)    \n",
        "\n",
        "def remove_repeating_char(text):\n",
        "  return re.sub(r'(.)\\1+', r'\\1', text)\n",
        "\n",
        "def remove_hex_char(text):\n",
        "   t = text.replace('x', 'b')\n",
        "   print('x')\n",
        "   #t = re.sub(\" \\d+\", '', t)\n",
        "   return t\n",
        "\n",
        "def remove_digits(text):\n",
        "  return re.sub(r\"$\\d+\\W+|\\b\\d+\\b|\\W+\\d+$\", \"\", text)\n",
        "  \n",
        "\n",
        "def remove_punctuations(text):\n",
        "    arabic_punctuations = '''`÷×؛<>_()*&^%][ـ،/:\"؟.,'{}~¦+|!”…“–ـ'''\n",
        "    english_punctuations = string.punctuation\n",
        "    punctuations_list = arabic_punctuations + english_punctuations\n",
        "   \n",
        "    translator = str.maketrans(punctuations_list, ' ' * len(punctuations_list))\n",
        "\n",
        "    return text.translate(translator)\n",
        "\n",
        "def remove_single_character(text):\n",
        "  text = ' '.join([w for w in text.split() if len(w)>1]).strip()\n",
        "  return text    \n",
        "\n",
        "\n",
        "def normalize_arabic(text):\n",
        "    text = re.sub(\"[إأآا]\", \"ا\", text)\n",
        "    text = re.sub(\"ئ\", \"ي\", text)\n",
        "    #text = re.sub(\"ى\", \"ي\", text)\n",
        "    #text = re.sub(\"ؤ\", \"ء\", text)\n",
        "    #text = re.sub(\"ئ\", \"ء\", text)\n",
        "    text = re.sub(\"ة\", \"ه\", text)\n",
        "    #text = re.sub(\"گ\", \"ك\", text)\n",
        "    return text\n",
        "\n",
        "\n",
        "def remove_diacritics(text):\n",
        "  arabic_diacritics = re.compile(\"\"\"\n",
        "                             ّ    | # Tashdid\n",
        "                             َ    | # Fatha\n",
        "                             ً    | # Tanwin Fath\n",
        "                             ُ    | # Damma\n",
        "                             ٌ    | # Tanwin Damm\n",
        "                             ِ    | # Kasra\n",
        "                             ٍ    | # Tanwin Kasr\n",
        "                             ْ    | # Sukun\n",
        "                             ـ     # Tatwil/Kashida\n",
        "                         \"\"\", re.VERBOSE)\n",
        "  text = re.sub(arabic_diacritics, '', text)\n",
        "  return text   "
      ],
      "execution_count": null,
      "outputs": []
    },
    {
      "cell_type": "markdown",
      "metadata": {
        "id": "NsGcTVHhOxrF",
        "colab_type": "text"
      },
      "source": [
        "##### Clean one story"
      ]
    },
    {
      "cell_type": "code",
      "metadata": {
        "id": "IcHz3R1zncg8",
        "colab_type": "code",
        "colab": {}
      },
      "source": [
        "# remove digits\n",
        "story = [remove_digits(element) for element in story]"
      ],
      "execution_count": null,
      "outputs": []
    },
    {
      "cell_type": "code",
      "metadata": {
        "id": "-yyjnn-z94qK",
        "colab_type": "code",
        "colab": {
          "base_uri": "https://localhost:8080/"
        },
        "outputId": "0413e1f2-6759-4947-8235-c38ccf730166"
      },
      "source": [
        "# remove \\n items\n",
        "remove_value_from_list(story, '\\n')\n",
        "print(\"Story length in sentences:: {}\".format(len(story)))"
      ],
      "execution_count": null,
      "outputs": [
        {
          "output_type": "stream",
          "text": [
            "Story length in sentences:: 6729\n"
          ],
          "name": "stdout"
        }
      ]
    },
    {
      "cell_type": "code",
      "metadata": {
        "id": "HzpeDQjby7Mq",
        "colab_type": "code",
        "colab": {}
      },
      "source": [
        "# remove \\n at the end of each sentence\n",
        "remove_value_from_list_end_of_item(story, '\\n')"
      ],
      "execution_count": null,
      "outputs": []
    },
    {
      "cell_type": "code",
      "metadata": {
        "id": "AYZk39r8zAKD",
        "colab_type": "code",
        "colab": {}
      },
      "source": [
        "# remove repeating characters\n",
        "story = [remove_repeating_char(element) for element in story]"
      ],
      "execution_count": null,
      "outputs": []
    },
    {
      "cell_type": "code",
      "metadata": {
        "id": "3mshNBy7JMhg",
        "colab_type": "code",
        "colab": {
          "base_uri": "https://localhost:8080/"
        },
        "outputId": "964f2892-d590-4f9a-8f5c-81afa51c6b0d"
      },
      "source": [
        "# remove punctuations\n",
        "story = [remove_punctuations(element) for element in story]\n",
        "print(\"Story length in sentences:: {}\".format(len(story)))"
      ],
      "execution_count": null,
      "outputs": [
        {
          "output_type": "stream",
          "text": [
            "Story length in sentences:: 6729\n"
          ],
          "name": "stdout"
        }
      ]
    },
    {
      "cell_type": "code",
      "metadata": {
        "id": "jVmwOWtQnZES",
        "colab_type": "code",
        "colab": {
          "base_uri": "https://localhost:8080/"
        },
        "outputId": "1d042afe-33f2-45fb-f87e-8d2f66e76530"
      },
      "source": [
        "# remove english letters\n",
        "remove_values_from_list_item(story, string.ascii_letters)\n",
        "print(\"Story length in sentences:: {}\".format(len(story)))"
      ],
      "execution_count": null,
      "outputs": [
        {
          "output_type": "stream",
          "text": [
            "Story length in sentences:: 6729\n"
          ],
          "name": "stdout"
        }
      ]
    },
    {
      "cell_type": "code",
      "metadata": {
        "id": "Uj1j7g2rgG5C",
        "colab_type": "code",
        "colab": {
          "base_uri": "https://localhost:8080/"
        },
        "outputId": "28f13dfe-8dba-4f7b-b55f-b28664c99979"
      },
      "source": [
        "# remove diacritics\n",
        "story = [remove_diacritics(element) for element in story]\n",
        "print(\"Story length in sentences:: {}\".format(len(story)))"
      ],
      "execution_count": null,
      "outputs": [
        {
          "output_type": "stream",
          "text": [
            "Story length in sentences:: 6729\n"
          ],
          "name": "stdout"
        }
      ]
    },
    {
      "cell_type": "code",
      "metadata": {
        "id": "IwS-3V06hb4o",
        "colab_type": "code",
        "colab": {
          "base_uri": "https://localhost:8080/"
        },
        "outputId": "b23e7b3b-3780-4e0f-b4fa-6d63011a66c0"
      },
      "source": [
        "# normalize letters\n",
        "story = [normalize_arabic(element) for element in story]\n",
        "print(\"Story length in sentences:: {}\".format(len(story)))"
      ],
      "execution_count": null,
      "outputs": [
        {
          "output_type": "stream",
          "text": [
            "Story length in sentences:: 6729\n"
          ],
          "name": "stdout"
        }
      ]
    },
    {
      "cell_type": "code",
      "metadata": {
        "id": "aerFxYiJxIAM",
        "colab_type": "code",
        "colab": {
          "base_uri": "https://localhost:8080/"
        },
        "outputId": "024c5ba2-434e-4e05-f748-907943c58dbd"
      },
      "source": [
        "# remove any single arabic letter\n",
        "story = [remove_single_character(element) for element in story]\n",
        "print(\"Story length in sentences:: {}\".format(len(story)))"
      ],
      "execution_count": null,
      "outputs": [
        {
          "output_type": "stream",
          "text": [
            "Story length in sentences:: 6729\n"
          ],
          "name": "stdout"
        }
      ]
    },
    {
      "cell_type": "code",
      "metadata": {
        "id": "9GmsuNHXn-dE",
        "colab_type": "code",
        "colab": {
          "base_uri": "https://localhost:8080/"
        },
        "outputId": "0d4310bb-e437-4e1c-e4ae-736b75729d08"
      },
      "source": [
        "# remove arabic (ـ)\n",
        "remove_values_from_list_item(story, \"ـ\")\n",
        "print(\"Story length in sentences:: {}\".format(len(story)))"
      ],
      "execution_count": null,
      "outputs": [
        {
          "output_type": "stream",
          "text": [
            "Story length in sentences:: 6729\n"
          ],
          "name": "stdout"
        }
      ]
    },
    {
      "cell_type": "code",
      "metadata": {
        "id": "9nnEPcVWONTc",
        "colab_type": "code",
        "colab": {
          "base_uri": "https://localhost:8080/"
        },
        "outputId": "9a4c5a98-ef02-4248-9d2b-9b0612d63220"
      },
      "source": [
        "# remove empty lines\n",
        "story = [element.strip() for element in story]\n",
        "remove_value_from_list(story, '')\n",
        "remove_value_from_list(story, ' ')\n",
        "\n",
        "print(\"Story length in sentences: {}\".format(len(story)))"
      ],
      "execution_count": null,
      "outputs": [
        {
          "output_type": "stream",
          "text": [
            "Story length in sentences: 6071\n"
          ],
          "name": "stdout"
        }
      ]
    },
    {
      "cell_type": "code",
      "metadata": {
        "id": "377OaviUzCEN",
        "colab_type": "code",
        "colab": {}
      },
      "source": [
        "# Run this cell to convert lists back to strings \n",
        "#story = ' '.join(story)"
      ],
      "execution_count": null,
      "outputs": []
    },
    {
      "cell_type": "markdown",
      "metadata": {
        "id": "8Bc9tYwgEc5y",
        "colab_type": "text"
      },
      "source": [
        "##### Clean all novels and save as csv"
      ]
    },
    {
      "cell_type": "code",
      "metadata": {
        "id": "lyHd5EbQ66QO",
        "colab_type": "code",
        "colab": {}
      },
      "source": [
        "# Read all novel files\n",
        "\n",
        "path = \"/content/drive/My Drive/data/Rewayatech/novels\"\n",
        "all_files = os.listdir(path)\n",
        "df_story = pd.DataFrame(columns = ['text','title'])\n",
        "\n",
        "for i, file in enumerate(tqdm(all_files)):\n",
        "  if file.endswith('.txt'):\n",
        "    with open(os.path.join(path, file), encoding=\"utf8\", errors='ignore') as f:\n",
        "      story = f.readlines()\n",
        "    title = file[:-4]\n",
        "\n",
        "    # clean\n",
        "    remove_value_from_list(story, '\\n')   \n",
        "    story = [remove_punctuations(element) for element in story]\n",
        "    remove_value_from_list_end_of_item(story, '\\n')\n",
        "    \n",
        "    remove_values_from_list_item(story, string.ascii_letters)\n",
        "\n",
        "    story = [normalize_arabic(element) for element in story]\n",
        "    story = [remove_diacritics(element) for element in story]\n",
        "\n",
        "    remove_values_from_list_item(story, \"ـ\")\n",
        "\n",
        "    story = [remove_repeating_char(element) for element in story]\n",
        "    story = [word for word in story if word not in stop]\n",
        "    story = [remove_single_character(element) for element in story]\n",
        "\n",
        "    story = [element.strip() for element in story]\n",
        "    remove_value_from_list(story, '')\n",
        "    story_lines = [line.split() for line in story]\n",
        "    story = [word for line in story_lines for word in line]\n",
        "    del story_lines\n",
        "    story = [word for word in story if word not in stop]\n",
        "\n",
        "    row = [story, title]\n",
        "    df_story.loc[i] = row"
      ],
      "execution_count": null,
      "outputs": []
    },
    {
      "cell_type": "code",
      "metadata": {
        "id": "OXQ9IVW98ZNH",
        "colab_type": "code",
        "colab": {}
      },
      "source": [
        "df_story.to_csv(\"stories.csv\", index=False)"
      ],
      "execution_count": null,
      "outputs": []
    },
    {
      "cell_type": "code",
      "metadata": {
        "id": "RaZ05_jmU9fC",
        "colab_type": "code",
        "colab": {
          "base_uri": "https://localhost:8080/",
          "height": 17
        },
        "outputId": "750a09d2-7edc-4c92-e623-1a5f14806f7b"
      },
      "source": [
        "from google.colab import files\n",
        "files.download(\"/content/stories.csv\")"
      ],
      "execution_count": null,
      "outputs": [
        {
          "output_type": "display_data",
          "data": {
            "application/javascript": [
              "\n",
              "    async function download(id, filename, size) {\n",
              "      if (!google.colab.kernel.accessAllowed) {\n",
              "        return;\n",
              "      }\n",
              "      const div = document.createElement('div');\n",
              "      const label = document.createElement('label');\n",
              "      label.textContent = `Downloading \"${filename}\": `;\n",
              "      div.appendChild(label);\n",
              "      const progress = document.createElement('progress');\n",
              "      progress.max = size;\n",
              "      div.appendChild(progress);\n",
              "      document.body.appendChild(div);\n",
              "\n",
              "      const buffers = [];\n",
              "      let downloaded = 0;\n",
              "\n",
              "      const channel = await google.colab.kernel.comms.open(id);\n",
              "      // Send a message to notify the kernel that we're ready.\n",
              "      channel.send({})\n",
              "\n",
              "      for await (const message of channel.messages) {\n",
              "        // Send a message to notify the kernel that we're ready.\n",
              "        channel.send({})\n",
              "        if (message.buffers) {\n",
              "          for (const buffer of message.buffers) {\n",
              "            buffers.push(buffer);\n",
              "            downloaded += buffer.byteLength;\n",
              "            progress.value = downloaded;\n",
              "          }\n",
              "        }\n",
              "      }\n",
              "      const blob = new Blob(buffers, {type: 'application/binary'});\n",
              "      const a = document.createElement('a');\n",
              "      a.href = window.URL.createObjectURL(blob);\n",
              "      a.download = filename;\n",
              "      div.appendChild(a);\n",
              "      a.click();\n",
              "      div.remove();\n",
              "    }\n",
              "  "
            ],
            "text/plain": [
              "<IPython.core.display.Javascript object>"
            ]
          },
          "metadata": {
            "tags": []
          }
        },
        {
          "output_type": "display_data",
          "data": {
            "application/javascript": [
              "download(\"download_2f40103b-fde0-48b7-bb6f-a42b0042fec8\", \"stories.csv\", 890721104)"
            ],
            "text/plain": [
              "<IPython.core.display.Javascript object>"
            ]
          },
          "metadata": {
            "tags": []
          }
        }
      ]
    },
    {
      "cell_type": "code",
      "metadata": {
        "id": "ck7TA0qI9fX1",
        "colab_type": "code",
        "colab": {}
      },
      "source": [
        "story = [word for word in tqdm(story) if word not in stop]"
      ],
      "execution_count": null,
      "outputs": []
    },
    {
      "cell_type": "markdown",
      "metadata": {
        "id": "HK2bOuBViju1",
        "colab_type": "text"
      },
      "source": [
        "#### Tokenization, remove stop words"
      ]
    },
    {
      "cell_type": "code",
      "metadata": {
        "id": "7j_uiFesr0WH",
        "colab_type": "code",
        "colab": {}
      },
      "source": [
        "# Tokenize words\n",
        "story_lines = [line.split() for line in story]\n",
        "story = [word for line in story_lines for word in line]\n",
        "del story_lines"
      ],
      "execution_count": null,
      "outputs": []
    },
    {
      "cell_type": "code",
      "metadata": {
        "id": "0QE8gUUVHRry",
        "colab_type": "code",
        "colab": {
          "base_uri": "https://localhost:8080/",
          "height": 51
        },
        "outputId": "774b974f-6dd9-4951-b1c7-98d254b868b0"
      },
      "source": [
        "# remove stop words\n",
        "nltk.download('stopwords')\n",
        "stop = stopwords.words('arabic')"
      ],
      "execution_count": null,
      "outputs": [
        {
          "output_type": "stream",
          "text": [
            "[nltk_data] Downloading package stopwords to /root/nltk_data...\n",
            "[nltk_data]   Package stopwords is already up-to-date!\n"
          ],
          "name": "stdout"
        }
      ]
    },
    {
      "cell_type": "code",
      "metadata": {
        "id": "7THD_oUuiZuv",
        "colab_type": "code",
        "colab": {}
      },
      "source": [
        "# normalize stop words\n",
        "stop = [normalize_arabic(element) for element in stop]\n",
        "stop = set(stop)"
      ],
      "execution_count": null,
      "outputs": []
    },
    {
      "cell_type": "code",
      "metadata": {
        "id": "pQ6FHsJHxHJi",
        "colab_type": "code",
        "colab": {}
      },
      "source": [
        "# add more stop words\n",
        "more_stop_words = set(['اله', 'كل', 'على', 'الي','انت','وانا', 'كانت','شي','يعني', 'البيت',\n",
        "                   'وهي', 'قلت', 'قالت', 'كنت', 'اني', 'فوق', 'قبل', 'الجزء', 'البارت', 'الاول',\n",
        "                   'قال', 'وقلت', 'وقالت','شئ','واله','شيء', 'ان','انه', 'واي','انها',\n",
        "                   'وقال', 'انتي', 'شاء', 'عليها', 'عليه', 'هذا','هو','وهو','مثل',\n",
        "                    'بيت', 'ابو', 'ام', 'اوكي', 'ال', 'اقول', 'الكل','تقول','يقول',\n",
        "                     'ان', 'او', 'ا', 'لا', 'في', 'على', 'الى', 'اي', 'تكون', 'كان', 'من', 'اذا', 'مع'])\n",
        "\n",
        "# 'مو','ليه','شوي', 'بس', 'راح', 'طيب','يلا','خلاص'\n",
        "\n",
        "stop |= more_stop_words\n"
      ],
      "execution_count": null,
      "outputs": []
    },
    {
      "cell_type": "markdown",
      "metadata": {
        "id": "aLlZeQivGGFX",
        "colab_type": "text"
      },
      "source": [
        "#### Stemming and lemmatization"
      ]
    },
    {
      "cell_type": "code",
      "metadata": {
        "id": "pFda220TSSc7",
        "colab_type": "code",
        "colab": {}
      },
      "source": [
        "# Apply stemming and lemmatization using Farasa\n",
        "\n",
        "#!pip install pyarabic"
      ],
      "execution_count": null,
      "outputs": []
    },
    {
      "cell_type": "code",
      "metadata": {
        "id": "9MB_7Xkhus4X",
        "colab_type": "code",
        "colab": {}
      },
      "source": [
        "from farasa.pos import FarasaPOSTagger\n",
        "from farasa.ner import FarasaNamedEntityRecognizer\n",
        "from farasa.segmenter import FarasaSegmenter\n",
        "from farasa.stemmer import FarasaStemmer"
      ],
      "execution_count": null,
      "outputs": []
    },
    {
      "cell_type": "code",
      "metadata": {
        "id": "hbQrspkku253",
        "colab_type": "code",
        "colab": {
          "base_uri": "https://localhost:8080/",
          "height": 173
        },
        "outputId": "85efe083-7cfe-4845-a86f-1d9ef4b0d46b"
      },
      "source": [
        "#segmenter = FarasaSegmenter()\n",
        "farasa_segmenter = FarasaSegmenter(interactive=True)\n",
        "\n",
        "#for s in story:\n",
        "#  segmented = segmenter.segment(s)\n",
        "#  print(\"sample segmented:\",segmented)"
      ],
      "execution_count": null,
      "outputs": [
        {
          "output_type": "stream",
          "text": [
            "[2020-09-06 22:26:57,679 - DEBUG]: perform system check...\n",
            "[2020-09-06 22:26:57,680 - DEBUG]: check java version...\n",
            "[2020-09-06 22:26:57,871 - DEBUG]: Your java version is 11.0 which is compatiple with Farasa \n",
            "[2020-09-06 22:26:57,872 - DEBUG]: check toolkit binaries...\n",
            "[2020-09-06 22:26:57,875 - INFO]: Dependencies seem to be satisfied..\n",
            "[2020-09-06 22:26:57,877 - WARNING]: Be careful with large lines as they may break on interactive mode. You may switch to Standalone mode for such cases.\n",
            "[2020-09-06 22:26:57,880 - INFO]: \u001b[37minitializing [SEGMENT] task in \u001b[32mINTERACTIVE \u001b[37mmode...\n",
            "[2020-09-06 22:27:02,427 - INFO]: task [SEGMENT] is initialized interactively.\n"
          ],
          "name": "stderr"
        }
      ]
    },
    {
      "cell_type": "code",
      "metadata": {
        "id": "5jkBYnAuv_DN",
        "colab_type": "code",
        "colab": {
          "base_uri": "https://localhost:8080/",
          "height": 156
        },
        "outputId": "965ab1da-e018-4d9f-e046-a59ae43090f8"
      },
      "source": [
        "stemmer = FarasaStemmer()\n",
        "stemmed = stemmer.stem(story)\n",
        "print(\"sample stemmed:\",stemmed)"
      ],
      "execution_count": null,
      "outputs": [
        {
          "output_type": "stream",
          "text": [
            "[2020-09-06 19:03:10,393 - DEBUG]: perform system check...\n",
            "[2020-09-06 19:03:10,395 - DEBUG]: check java version...\n",
            "[2020-09-06 19:03:10,556 - DEBUG]: Your java version is 11.0 which is compatiple with Farasa \n",
            "[2020-09-06 19:03:10,557 - DEBUG]: check toolkit binaries...\n",
            "[2020-09-06 19:03:10,558 - INFO]: Dependencies seem to be satisfied..\n",
            "[2020-09-06 19:03:10,562 - INFO]: task [STEM] is initialized in \u001b[34mSTANDALONE \u001b[37mmode...\n"
          ],
          "name": "stderr"
        },
        {
          "output_type": "stream",
          "text": [
            "sample stemmed: أبو ماجد عمر 54 في عصبي شوي بس ان من داخل حنون ام ماجد عمر 49 حنون مر طيب مات في عيال واي شي تمنى أجاب ل ماجد ابن أكبر عمر 20 طايش مر واهم ما عند بنت ساعد جمال ان علق بنت في اسمر طويل جسم رياضي عين كبير ل سكسوك واي بنت تخق على نور عمر 17 طيب مر بس بعض أمر تعصب على مات في اخوان مر حلو بيض طويل جسم رشيق علطول دخل في قلب ناصر عمر 14 مر خجول شكل مو طبيعي استحيى من اي شي أحب بنت عم سار بس محد درى عن الا نور هو مو جميل مر بس ان ملوح مو جميل دان عمر مزعج مر أحب اخت نور مر بس بعض يام قهر ماجد جالس في صاله مع جوال لعب في جت نور عند نور ماجد شفت ابتوبي ماجد لا اله اسيل ناصر أمكن مع نور طيب أنت خلك مع بنت الي لعب على راح غرفة ناصر قال ل صور شفت ابتوب حق ناصر أي روح حق على شفت دان ماسك داخل غرفة نور أوهى ياويلي راح ابتوبي راح ركض ناصر ضحك على نور تصارخ دان دان دخل غرفة دان قت قاعد رسم على ابتوب صارخ قال الا ابتوبي دانو ياويلك اذ خرب حق اهى دان روح ماحبك روح اهى اهى نور شافي حن على قال دنو حبيب أنا احبك بس أنا قال كذا علشان ماتسو كذا مر ثاني دان مسح دمعة طيب خلاص مالاح اسوي شي روح نامي نور باس طلع هي طالع شافي ام قال ها مامي ام ماجد اهل شفي قبل شوي تصارخين على أخت نور علشان رسم على ابتوبي ام ماجد اه ياله يابنتي أصبح على خير روح انام نور وان من اهل مامي قول معلوم ان أبو ماجد مايجي بيت الا آخر يل علشان شغل نور أخذ ابتوب دخل غرفة فتح ماسنجر شافي بنت عم دلال داخل نور ها دلول كيف دلال هاي تمام حمداله وان كيف نور تمام على فكر بكر صاحب عنود تجيني تعالى عند اوكي دلال اوكي حين طلع باي نور باي نور دخل منتدى كان نك حق سعودي افتخر جاه كلام من هيون هيون ها يالسعوديه نور هاي هيون كيف مكن تعرف نور اوكي اذ كان بنت ماعندي مانع هيون أنا عمر 19 اسم هيا نور أنا عمر 17 اسم نور هيون اه نعمة جلسو ساعة هم يسولفون نور باي هيون بكر اقيك في نفس وقت اوكي هيون اوكي باي يوم ثاني في بيت ام دلال ام دلال عمر مات في بنى لان ماعندها غير بنت تدلع دلال نفس شي مات في ام دلال عمر 17 كبر نور مر قريب من نور هم زي اخو مات في بعض ابو ميت ما عندها اخو دلال مو جميل مر بس جذب واحد والي أخرب على شعر والي يشوف شعر يرتاع ينحاش بس هي دايم تستشوره رنة ساعه على دلال قام منزعج سكرة ساعه دخل حمام أنتم كرامه وخذتلها شور لبسة جنز اسكيني وتي شيرت احمر مكتوب اسود وحطتلها قلس خفيف هي شعر مر خشن والي يشوف شعر يرتاع ينحاش بس هي دايم تستشوره واستشورته طلع ناعم هي بس محد درى عن طبيعة شعر الا أهل لبسة عابايتها أخذ شنطة نزل شافي ام باس راسي قال ل ماما روح عند نور بنت عم اوكي ام دلال اوكي حبيب بس لاتاخرين ساعه 10 تجين اوكي دلال اوكي باي راح عند نور اتصل قال نوار أنا عند باب نور لعن ليس كم مر قال ل لاتقولين نور مو فاتح باب الى ماتقولين نوني حبيب مكن فتح باب دلال عصبة انقلعي بس غلطان الي يجي عند باي نور الا امزح خلاص قول ل اخوي يفتحلك تعالى فوق اوكي دلال على بال بيجي ناصر يفتحل ماجاء في بال ماجد ابد شوي الا حل ماجد هي ارتبك نزل راسي قال وين نور ماجد ابتسم قال هلا اله بنت عم فضل ادخل دلال استحت قال اوكي بس وين نور ماجد قال في غرفة دلال راح فوق شافي ناصر باس قال هلا اله ناصر ناصر استحى نزل رأس قال حمداله دلال راح فوق عند نور فتح باب قال عصبيه يش خلية ماجد فتح ل باب نور شفي اذ خلى ماجد لا في بدين أحب وماقلتيلي دلال ارتكب قال ها الا مافي ونى وين حب نور دلال أنا بنت عم غاب علي دلال صراحه يا نور أي احب نور اشتغل قافه عندها قال ل من متى حبيتي لا تقوليلي دلال أنا حب من شهر بس قال خليني اتيكد من مشعر بس حين أنا متاكد نور كيف حبيتي دلال ذكر يوم الي راح في استراحه أنا كان مادري ان في دخل قاعد اغني هو جاء من راي خرعني قال وش هالصوت يابن عم جلس بعد طلع بر كان ادور دان في شاب جون شاب أول وش هذا زين كل شاب ثاني جنى جسم تعالى اركبي مع أنا طبع خاف لا اشوف ماجد جاي من بعيد قال خير وش تب في بنيه قالو شاب أنت وش دخل وسحبوني ماجد قال خلو زوجة ياحمير شاب انصدمو قالو زوح راحو من هذا حظ أنا احب نور اوه طلع أحب يادلال عند حركة دلال تو تكلم الا دخل دان قال ل دلال أحب ماجد تصارخ دلال نور يسكتونها هي نزل سرع تحت قال ماجد ماجد ماجد مالق جت نور عندها قال حبيب اعطي حلاو وماتعلمين أحد دان فرح اوكي ياله عطيني جت دلال قال ل نور ياله أنا رايح راح نور راح فتح نت دخل ماسنجر سولف مع هيون هيون نور اقولك شي بس توعديني ماتحطين ل بلوك أو دلي نور أوك وعد هيون ام نور أخاف اخسر اذ قلتلك توقع هيون وش قال ل نور هيون خسر نور على ايش ماجد لو عرف ان دلال أحب وش راح سوى دلال لو عرف ان ماجد لعب على بنت راح كر بارت ثاني هيون ام نور أخاف اخسر اذ قلتلك نور بدا خاف قال ل هي مرتبك على ايش اخسر هيون نور أنا مو بنت أنا ولد نور عصبة قال خير ان شاءاله شايفني لعب عند لعب فين معليش راح احذفك هيون الالا حظ شوي لا تحذفيني قول شي صراحه اله ان احبك مابي اخسر نور أوهى كيف أحب أنت ماتعرفني مكن تفهمني هيون ذكر يوم الي حي في بيت أنا ماجد وان شفتيني علطول طلعة فوق نور قال أي لا كان أنت فراس صديق ماجد هيون أي هذا أنا أنا حب من أول ماشفتك اله نور قال اه اوكي باي طلع بكر انش اءال دخل هيون اوكي باي نور سكرة ابتوب راح دخل غرفة فكر في كلالامه قال صدق أنا أول ماشفته تحرك شي من داخلي بس أخاف ان ماجد هو الي قايل لعب علي أو أخاف ان مثل ماجد من بنت الى بنت قطع تفكير طق باب نور مين ماجد أنا ماجد فتح نور راح فتح باب قال هلا في شي تبي شي ماجد نور أي ابي من شي ابي جوال شوي علشان وصل على خوي نور ليش مو من جوال ماجد مادري نها حطي على طاوله راح شوي بعد رجع لا لقي نور اه طيب أخذ عط ماجد كان اطلع نور وفق قال ماجد لا لعب على بنت ناس حرام ماجد عادي هم راضي قال ل تعال اخطبني حلم جاء ناصر عند نور ناصر نور نور هلا حبيب ناصر نور قول شي نور هلا حبيب وش بغية ناصر في واحد في ثانوي شعر طويل صوت مو مثل ولد نور خافت قال حبيب طيب هو وش سوالك ناصر ماسوى شي بس قال وش راي بكر اطلع راح نتغدا بعد راح بيت نور الالاحبيبي لا راح مع اوكي رأى كذب ناصر فكر اوكي مو راح طلع نور دخل مسن لق فراس داخل فراس ها نور فراس خلالاص أفهم أنا ماحبك طلع عكر مزاجي طلع بعد يوم دخل مسن شافي فراس متصل بس مكتوب في نك حق اله قوم سلام يافراس هي بدا خاف قال مين مع فراس أنا أخت فراس نور يش في فراس فراس اهى اهى اهى هو جلس يوم ماياكل لا شرب لا شي اهى اهى طاح على يوم هو حين منوم في مستشفى نور خافت تجمع دمعة في عين قال اوكي باي طلع طلع بعد راح عند ماجد سولف مع بعد قال ل الا نسي اقولك في أحد من اصدقايك في مستشفى ماجد ام مدري يش سال نور ها لا بس اشوف جت مكالم ل ماجد كان رقم غريب استغرب ورد ماجد الو هند الو هلا ماجد من مع هند مكن تقابل اني قول شي مر ضروري ماجد اوكي بس وين هند قال ل مكان الي بيتقابلون في ماجد علطول طلع راح عندها عند ناصر قاعد لعب في جوال جت دان قال ناصر ناصر شاف دان اقولك من حين مو رايق ل روح عند أحد ثاني دان اهى خلاص ماحبك ماحبك راح ركض عند غرفة ام ام ماجد شفي حبيب دان ماما قول شي ام ماجد شو حبيب بارت ثالث دان ماما يوم في مدرسه قال ل صديق ان ابو مايجي بيت ابد أكره امي ويكرهني أنا قال ل حتى أنا بابا مايجي بيت بابا مايحبني ياماما صح دخل أبو ماجد طبع سمع كلام قال دان حبيب أنا احبك مر بس أنا ماجي علشان اجيب فلس واشتريلك ألعاب انتي ماتبين دان الا ابي ألعاب كثير أبو ماجد طيب حبيب ياله روح نامي أنا امك حين نامي دان ان ثاءاله ان شاءاله عند ماجد هند ماجد هلا وش كان تبين من هند أنا بنت عمة فراس خوي ماجد تو كان تغزل في بس اتراجع يوم عرف ان تقرب ل خوي هند شاف أنا قول شي عن نور فراس ماجد استغرب قال شو هند شاف أنا فراس عن قريب راح نتزوج نور أخذ من فراس يوم كلم في يل اطلع مع بعض ماجد عصب راح سرع ل بيت هند حمداله ان خلص من يانورا حين فراس ل محد قدر ياخذ من نجح خط ماجد أسرع مالقى نفس الا في بيت دخل هو معصب يصارخ نور نور نور ام ماجد أبو ماجد ناصر علطول نزلو أبو ماجد شفي ياماجد شفي وش مسوي نور ماجد شاف بنت شريف وش مسوي سود وجه اله ساد وجه ام ماجد شفي ياوليدي قلي بس ماجد ترك راح غرفة نور دخل على ضرب ناصر يناضر هو منقهر من اخو لان مات في نور مايحب أحد يزعل شافي جنب زي مزهريه أخذ رمى على راسي ماجد ماجد طاع مغمى على ناصر خافي علطول طلع في شارع ام ماجد أبو ماجد نور علطول خذو ماجد مستشفى دخلو انتظر كل ماطول دكتور خاف أكثر طلع دكتور ام ماجد ها طمني على ولد أبو ماجد يادكتور ولد في شي خطير نور دكتور تكفى علم اذ في شي علم دكتور تطمنو ماجد مافي شي بعد شوي راح يصحى ام ماجد طيب مكن دخل عند هذا كلام كاتب بنت أسف بس ماقدر أكمل رواية اني سوي ورم ل ابتوبي أنا قول وش صار فراس تزوج نور طبع قبل ماتزوجو هند سحر فراس فراس كره نور بعد قرو على فكو سحر هند حب واحد صاري بين موقف حب هو حب تزوجو ماجد تزوج بنت عم دلال بعد ماكتشف ان أحب ترك حركة الي غازل بنت سار صديق الي في دار يتيم قال ل وين اهلك قال سار ل ان ماعندي الا عم عط عنوان صديق سار طبع علم مدير دار مدير دار راح عند عم سار قال ل ان سار عندها عم سار جاء عند سار أخذ بيت بعد اقناع ناصر يوم شافي ماصدق على عمر بعد مرور سنة فراس نور جابو بنت ولد بنت أوفى مها ولد يوسف فهد ماجد دلال جابو بنت ولد بنت اسم مالك ولد اسم محمد علي هند جابو ولد بنت ولد خالد بنت حل وغل ناصر سار ماجابو شي بس سار حامل طبع أنتم أكيد حين أنتم سال عن لمى لمى سافر خارج علشان أكمل دارس أخذ ماجستير دكتواره\n"
          ],
          "name": "stdout"
        }
      ]
    },
    {
      "cell_type": "code",
      "metadata": {
        "id": "4wm-IacFwNvZ",
        "colab_type": "code",
        "colab": {
          "base_uri": "https://localhost:8080/",
          "height": 156
        },
        "outputId": "5a1700d7-7031-4d15-e2b3-a9eaf5114e34"
      },
      "source": [
        "#pos_tagger = FarasaPOSTagger()\n",
        "#pos_tagged = pos_tagger.tag(story)\n",
        "#print(\"sample POS Tagged\",pos_tagged)"
      ],
      "execution_count": null,
      "outputs": [
        {
          "output_type": "stream",
          "text": [
            "[2020-09-06 18:50:26,217 - DEBUG]: perform system check...\n",
            "[2020-09-06 18:50:26,218 - DEBUG]: check java version...\n",
            "[2020-09-06 18:50:26,355 - DEBUG]: Your java version is 11.0 which is compatiple with Farasa \n",
            "[2020-09-06 18:50:26,357 - DEBUG]: check toolkit binaries...\n",
            "[2020-09-06 18:50:26,360 - INFO]: Dependencies seem to be satisfied..\n",
            "[2020-09-06 18:50:26,364 - INFO]: task [POS] is initialized in \u001b[34mSTANDALONE \u001b[37mmode...\n"
          ],
          "name": "stderr"
        },
        {
          "output_type": "stream",
          "text": [
            "sample POS Tagged S/S ماجد/NOUN-MS عمر/NOUN-MS +ه/PRON 54/NUM-MP و+/CONJ في/PREP عصبي/NOUN-MS +ه/PRON شوي/NOUN-MS داخل/NOUN-MS +ه/PRON حنون/NOUN-MS ماجد/NOUN-MS عمر/NOUN-MS +ها/PRON 49/NUM-MP و+/CONJ حنون/NOUN-MS +ه/PRON مر/NOUN-MS +ه/PRON و+/CONJ طيب/NOUN-MS +ه/PRON و+/CONJ تموت/NOUN-MS عيال/NOUN-FP +ها/PRON يتمن/V +ون/PRON +ه/PRON تجيب/V +ه/PRON ماجد/NOUN-MS ال+/DET ابن/NOUN-MS ال+/DET أكبر/ADJ-MS عمر/NOUN-MS 20/NUM-MP و+/CONJ طايش/V مر/NOUN-MS +ه/PRON واهم/ADJ-MS عند/NOUN-MS +ه/PRON ال+/DET بن/NOUN-FP +ات/NSUFF و+/CONJ يساعد/V +ه/PRON جمال/NOUN-MS +ه/PRON يعلق/V بنت/NOUN-MS اسمر/NOUN-MS طويل/ADJ-MS جسم/NOUN-MS +ه/PRON رياضي/NOUN-FP عيون/NOUN-FP +ه/PRON كبار/ADJ-MP سكسوك/NOUN-MS +ه/PRON بنت/NOUN-MS تخق/NOUN-MS نورا/NOUN-MS عمر/NOUN-MS +ها/PRON 17/NUM-MP طيب/NOUN-MS +ه/PRON مر/NOUN-MS +ه/PRON ال+/DET أمور/NOUN-FP تعصب/NOUN-MS و+/CONJ تموت/NOUN-MS اخوان/NOUN-MP +ها/PRON و+/CONJ مر/NOUN-MS +ه/PRON حلو/NOUN-MS +ه/PRON بيض/NOUN-MS +ا/CASE و+/CONJ طويل/ADJ-MS +ه/PRON و+/CONJ جسم/NOUN-MS +ها/PRON رشيق/ADJ-MS و+/CONJ علطول/ADJ-MS تدخل/NOUN-MS ال+/DET قلب/NOUN-MS ناصر/NOUN-MS عمر/NOUN-MS +ه/PRON 14/NUM-MP و+/CONJ مر/V +ه/PRON خجول/NOUN-MS ب+/PREP شكل/NOUN-MS مو/NOUN-MS طبيعي/ADJ-MS يستحي/V و+/CONJ يحب/V بنت/NOUN-MS عمه/NOUN-MS سار/V +ا/PRON محد/NOUN-MS يدري/V عن/PREP +ه/PRON نورا/NOUN-MS مو/NOUN-MS جميل/ADJ-MS مر/NOUN-MS +ه/PRON ملوح/NOUN-MS مو/ADJ-MS جميل/NOUN-MS دانا/NOUN-MS عمر/NOUN-MS +ها/PRON و+/CONJ مزعج/ADJ-MS +ه/PRON مر/NOUN-MS +ه/PRON و+/CONJ تحب/V اخت/NOUN-MS +ها/PRON نورا/NOUN-MS مر/NOUN-MS +ه/PRON ال+/DET يام/ADJ-MS تقهر/NOUN-MS +ها/PRON ماجد/NOUN-MS جالس/ADJ-MS ال+/DET صاله/NOUN-MS و+/CONJ مع/NOUN-MS +ه/PRON جوال/ADJ-MS +ه/PRON و+/CONJ يلعب/V جت/NOUN-MS نورا/NOUN-MS عند/NOUN-MS +ه/PRON نورا/NOUN-MS ماجد/NOUN-MS شفت/NOUN-MS ل+/PREP ابتوبي/V ماجد/NOUN-MS اسيل/NOUN-FS +ي/NSUFF ناصر/NOUN-MS يمكن/V مع/NOUN-MS +ه/PRON نورا/NOUN-MS طيب/NOUN-MS و+/CONJ أنت/PRON خلك/NOUN-MS ال+/DET بن/NOUN-FP +ات/NSUFF تلعب/V علي/PREP +هم/PRON و+/CONJ راح/V +ت/PRON غرف/NOUN-FS +ة/NSUFF ناصر/NOUN-MS نصور/NOUN-FP شفت/NOUN-MS ال+/DET ابتوب/NOUN-MS حقي/NOUN-MS ناصر/NOUN-MS روح/NOUN-MS +ي/PRON ال+/DET حقي/ADJ-MS شفت/NOUN-MS دانا/NOUN-MS ماسك/V +ت/PRON +ه/PRON و+/CONJ داخل/NOUN-MS +ه/PRON غرف/NOUN-FS +ت/NSUFF +ها/PRON نورا/NOUN-MS يو/NOUN-MS +ه/PRON ياويلي/NOUN-MP ب+/PREP يروح/V ل+/PREP ابتوبي/V و+/CONJ راح/V +ت/PRON تركض/V و+/CONJ ناصر/NOUN-MS يضحك/V نورا/NOUN-MS تصارخ/NOUN-MS دانا/NOUN-MS دانا/NOUN-MS و+/CONJ دخل/V +ت/PRON غرف/NOUN-FS +ة/NSUFF دانا/NOUN-MS ل+/PREP قت/NOUN-MP +ها/PRON قاعد/NOUN-MS +ه/PRON ترسم/V ل+/PREP ابتوب/V +ها/PRON صارخ/ADJ-FS +ت/NSUFF ل+/PREP ال+/DET الا/NOUN-MS ل+/PREP ابتوبي/NOUN-MS دانو/NOUN-MS +ه/PRON ياويلك/NOUN-MS خرب/NOUN-MS حقي/ADJ-MS اهى/NOUN-MS دانا/NOUN-MS روح/NOUN-MS +ي/PRON ماحبك/NOUN-MS روح/NOUN-MS +ي/PRON اهى/NOUN-MS اهى/ADJ-MS نورا/NOUN-MS شاف/ADJ-FS +ت/NSUFF +ها/PRON و+/CONJ حن/V +ت/PRON دنو/NOUN-MS حبيب/NOUN-FS +ت/NSUFF +ي/PRON احبك/NOUN-MS علشان/NOUN-MS ماتسو/NOUN-MP +ين/NSUFF مر/NOUN-MS +ه/PRON ثاني/ADJ-MS +ه/PRON دانا/NOUN-MS مسح/V +ت/PRON دموع/NOUN-FP +ها/PRON طيب/NOUN-MS خلاص/NOUN-MS مالاح/NOUN-MS اسوي/NOUN-MS روح/NOUN-MS +ي/PRON ب+/PREP نام/NOUN-MS نورا/NOUN-MS باس/NOUN-FS +ت/NSUFF +ها/PRON و+/CONJ طلع/V +ت/PRON طالع/ADJ-MS +ه/PRON شاف/V +ت/PRON ام/NOUN-MS +ها/PRON ها/PART +ي/PRON مامي/NOUN-MS ماجد/NOUN-MS اهل/NOUN-FS +ين/NSUFF و+/CONJ شفي/NOUN-MS +ك/PRON شوي/NOUN-MS تصارخين/NOUN-MS أخت/NOUN-MS +ك/PRON نورا/NOUN-MS علشان/NOUN-MS +ها/PRON ترسم/V ل+/PREP ابتوبي/V ماجد/NOUN-MS ياله/ADJ-MS يابنتي/ADJ-MS تصبح/V +ين/NSUFF خير/NOUN-MS ب+/PREP روح/NOUN-MS انام/ADJ-MS نورا/NOUN-MS وان/NOUN-FS +ت/NSUFF +ي/PRON اهل/NOUN-MS +ه/PRON مامي/NOUN-MS ب+/PREP قول/NOUN-MS +كم/PRON معلوم/NOUN-MS +ه/PRON ماجد/NOUN-MS مايجي/NOUN-MS آخر/ADJ-MS ال+/DET يل/ADJ-MS علشان/NOUN-MS شغل/NOUN-MS +ه/PRON نورا/NOUN-MS خذ/V +ت/PRON ل+/PREP ابتوب/V +ها/PRON و+/CONJ دخل/V +ت/PRON غرف/NOUN-FS +ت/NSUFF +ها/PRON و+/CONJ فتح/V +ت/PRON ال+/DET ماسنجر/NOUN-MS و+/CONJ شاف/V +ت/PRON بنت/NOUN-MS عم/NOUN-MS +ها/PRON دلال/NOUN-MS داخل/NOUN-MS +ه/PRON نورا/NOUN-MS ها/PART +ي/PRON دلول/V كيف/PART +ك/PRON دلال/NOUN-MS هاي/NOUN-FS +ات/NSUFF تمام/ADJ-MS ال+/DET حمداله/NOUN-MS وان/NOUN-FS +ت/NSUFF +ي/PRON كيف/PART +ك/PRON نورا/NOUN-MS تمام/NOUN-MS و+/CONJ على/PREP فكر/NOUN-MS +ه/PRON بكرا/NOUN-MS صاحب/NOUN-FS +ت/NSUFF +ي/PRON ال+/DET عنود/ADJ-MS ب+/PREP تجيني/NOUN-MS تعالى/V عند/NOUN-MS +ي/PRON دلال/NOUN-MS و+/CONJ ال+/DET حين/NOUN-MS ب+/PREP طلع/NOUN-MS باي/NOUN-MS نورا/NOUN-MS باي/NOUN-MS نورا/NOUN-MS دخل/V +ت/PRON ال+/DET منتدى/NOUN-MS و+/CONJ كان/V ال+/DET نك/NOUN-MS حق/NOUN-MS +ها/PRON سعودي/NOUN-MS +ه/PRON و+/CONJ افتخر/V جاه/NOUN-MS +ا/CASE كلام/NOUN-MS هيون/NOUN-FP هيون/NOUN-FP ها/PART +ي/PRON يالسعوديه/ADJ-MS نورا/NOUN-MS هاي/NOUN-FS +ات/NSUFF هيون/NOUN-FP كيف/PART +ك/PRON مكن/V نتعرف/V نورا/NOUN-MS كنت/NOUN-FD +ي/NSUFF بنت/NOUN-MS ماعندي/NOUN-MS مانع/NOUN-MS هيون/NOUN-FP عمري/NOUN-MS 19/NUM-MP و+/CONJ اسمي/V نورا/NOUN-MS عمري/NOUN-MS 17/NUM-MP و+/CONJ اسمي/V نورا/NOUN-MS هيون/NOUN-FP و+/CONJ ال+/DET نعم/NOUN-MS و+/CONJ جلسو/NOUN-MS ساع/NOUN-FS +ت/NSUFF +ين/NSUFF و+/CONJ +هم/PRON يسولفون/ADJ-MS نورا/NOUN-MS باي/NOUN-MS هيون/NOUN-FP و+/CONJ بكر/NOUN-MS +ا/CASE ال+/DET اقيك/NOUN-MS نفس/NOUN-MS ال+/DET وقت/NOUN-MS هيون/NOUN-FP باي/NOUN-MS ال+/DET يوم/NOUN-MS ال+/DET ثاني/ADJ-MS دلال/NOUN-MS دلال/NOUN-MS عمر/NOUN-MS +ها/PRON و+/CONJ تموت/NOUN-MS بنت/NOUN-MS +ها/PRON لان/NOUN-MS +ه/PRON ماعندها/NOUN-MS بنت/NOUN-MS و+/CONJ تدلع/NOUN-MS +ها/PRON و+/CONJ دلال/NOUN-MS نفس/NOUN-MS ال+/DET شي/NOUN-MS تموت/V ام/NOUN-MS +ها/PRON دلال/NOUN-MS عمر/NOUN-MS +ها/PRON 17/NUM-MP كبر/V نورا/NOUN-MS و+/CONJ مر/NOUN-MS +ه/PRON قريب/ADJ-MS +ه/PRON نورا/NOUN-MS و+/CONJ +هم/PRON زي/NOUN-MS ال+/DET اخو/NOUN-FS +ات/NSUFF يموت/V +ون/PRON و+/CONJ ابو/V +ها/PRON ميت/NOUN-MS عند/NOUN-MS +ها/PRON اخو/NOUN-FS +ات/NSUFF و+/CONJ دلال/NOUN-MS مو/NOUN-MS جميل/NOUN-MS +ه/PRON مر/NOUN-MS +ه/PRON تجذب/V ال+/DET واحد/NOUN-MS والي/NOUN-MS يخرب/V شعر/NOUN-MS +ها/PRON والي/NOUN-MS يشوف/NOUN-FP شعر/NOUN-MS +ها/PRON يرتاع/V و+/CONJ ينحاش/V دايم/NOUN-MS تستشوره/ADJ-MS رن/V +ت/PRON ال+/DET ساعه/NOUN-MS دلال/NOUN-MS قام/V +ت/PRON منزعج/ADJ-MS +ه/PRON و+/CONJ سكر/V +ت/PRON ال+/DET ساعه/NOUN-MS و+/CONJ دخل/V +ت/PRON ال+/DET حمام/NOUN-MS و+/CONJ ال+/DET كرامه/NOUN-MS وخذتلها/NOUN-MS شور/NOUN-MS و+/CONJ لبس/V +ت/PRON جنز/NOUN-MS اسكيني/ADJ-MS وتي/ADJ-MS شيرت/NOUN-MS أحمر/ADJ-MS و+/CONJ مكتوب/ADJ-MS ب+/PREP اسود/NOUN-MS وحطتلها/ADJ-MS قلس/ADJ-MS خفيف/ADJ-MS شعر/V +ها/PRON مر/NOUN-MS +ه/PRON خشن/NOUN-MS والي/NOUN-MS يشوف/NOUN-FP شعر/NOUN-MS +ها/PRON يرتاع/V و+/CONJ ينحاش/V دايم/NOUN-MS تستشوره/ADJ-MS واستشورته/ADJ-MS و+/CONJ طلع/V +ت/PRON ناعم/NOUN-MS +ه/PRON محد/NOUN-MS يدري/V طبيع/NOUN-FS +ة/NSUFF شعر/NOUN-MS +ها/PRON أهل/NOUN-MS +ها/PRON و+/CONJ لبس/V +ت/PRON عابايتها/NOUN-MS و+/CONJ خذ/V +ت/PRON شنط/NOUN-FS +ت/NSUFF +ها/PRON و+/CONJ نزل/V +ت/PRON و+/CONJ شاف/V +ت/PRON ام/NOUN-MS +ها/PRON باس/V +ت/PRON راس/NOUN-MS +ها/PRON ماما/NOUN-MS ب+/PREP روح/NOUN-MS نورا/NOUN-MS بنت/NOUN-MS عمي/NOUN-FP دلال/NOUN-MS حبيب/NOUN-FS +ت/NSUFF +ي/PRON لاتاخرين/NOUN-MS ال+/DET ساعه/NOUN-MS 10/NUM-MP تجين/NOUN-MS دلال/NOUN-MS باي/NOUN-MS راح/V +ت/PRON نورا/NOUN-MS و+/CONJ اتصل/V +ت/PRON نوار/NOUN-MS +ه/PRON ال+/DET باب/NOUN-MS نورا/NOUN-MS يلعن/NOUN-FP ب+/PREP ليس/PART +ك/PRON مر/NOUN-MS +ه/PRON لاتقولين/NOUN-MS نورا/NOUN-MS و+/CONJ مو/V فاتح/NOUN-MS +ه/PRON ال+/DET باب/NOUN-MS ماتقولين/NOUN-MS نوني/NOUN-MS حبيب/NOUN-FS +ت/NSUFF +ي/PRON مكن/V تفتح/NOUN-FS +ين/NSUFF ال+/DET باب/NOUN-MS دلال/NOUN-MS عصب/NOUN-FS +ت/NSUFF انقلعي/NOUN-MS غلطان/ADJ-MS يجي/ADJ-FP عند/NOUN-MS +ك/PRON باي/NOUN-MS نورا/NOUN-MS ل+/PREP الا/NOUN-MS امزح/NOUN-MS خلاص/NOUN-MS ب+/PREP قول/NOUN-MS اخوي/NOUN-MS يفتحلك/ADJ-MS و+/CONJ تعالي/NOUN-MS دلال/NOUN-MS بال/NOUN-MS +ها/PRON بيجي/NOUN-MS ناصر/NOUN-MS و+/CONJ يفتحل/V +ها/PRON ماجاء/NOUN-MS بال/NOUN-MS +ها/PRON ماجد/NOUN-MS ابد/NOUN-MS و+/CONJ شوي/NOUN-MS ف+/CONJ تحل/V +ها/PRON ماجد/NOUN-MS ارتبك/V +ت/PRON و+/CONJ نزل/V +ت/PRON راس/NOUN-MS +ها/PRON وين/NOUN-MS نورا/NOUN-MS ماجد/NOUN-MS ابتسم/V بنت/NOUN-MS عمي/NOUN-FP تفضل/V +ي/PRON ادخل/NOUN-MS +ي/PRON دلال/NOUN-MS استحت/V وين/V نورا/NOUN-MS ماجد/NOUN-MS غرف/NOUN-FS +ت/NSUFF +ها/PRON و+/CONJ دلال/NOUN-MS راح/V +ت/PRON و+/CONJ شاف/V +ت/PRON ناصر/NOUN-MS باس/NOUN-FS +ت/NSUFF +ه/PRON ناصر/NOUN-MS ناصر/NOUN-MS استحى/V و+/CONJ نزل/V رأس/NOUN-MS +ه/PRON ال+/DET حمداله/NOUN-MS و+/CONJ دلال/NOUN-MS راح/V +ت/PRON نورا/NOUN-MS و+/CONJ فتح/V +ت/PRON ال+/DET باب/NOUN-MS ب+/PREP ال+/DET عصبيه/NOUN-MS ل+/PREP يش/NOUN-MS خلي/NOUN-FS +ت/NSUFF +ي/PRON ماجد/NOUN-MS يفتح/V ال+/DET باب/NOUN-MS نورا/NOUN-MS و+/CONJ شفي/NOUN-MS +ها/PRON خلي/NOUN-FS +ت/NSUFF ماجد/NOUN-MS بدين/NOUN-MS +ا/CASE نحب/V وماقلتيلي/NOUN-MS دلال/NOUN-MS ارتكب/V +ت/PRON ها/PART +ه/PRON ل+/PREP الا/NOUN-MS مافي/NOUN-MS و+/CONJ +ين/NSUFF +ي/PRON وين/NOUN-MS ال+/DET حب/NOUN-MS نورا/NOUN-MS دلال/NOUN-MS بنت/NOUN-MS عم/NOUN-MS +ك/PRON تغب/V +ين/NSUFF علي/PREP دلال/NOUN-MS ال+/DET صراحه/NOUN-MS نورا/NOUN-MS احب/NOUN-MS +ه/PRON نورا/NOUN-MS اشتغل/V +ت/PRON ال+/DET قافه/NOUN-MS عند/NOUN-MS +ها/PRON حبيتي/NOUN-MS +ه/PRON تقوليلي/NOUN-MS دلال/NOUN-MS حبي/NOUN-MS +ت/NSUFF +ه/PRON شهور/NOUN-FP خليني/ADJ-MS اتيكد/ADJ-MS مشاعر/NOUN-FP +ي/PRON ال+/DET حين/NOUN-MS متاكد/NOUN-MS +ه/PRON نورا/NOUN-MS حبيتي/NOUN-MS +ه/PRON دلال/NOUN-MS تذكر/NOUN-FS +ين/NSUFF ال+/DET يوم/NOUN-MS رح/V +نا/PRON ال+/DET استراحه/NOUN-MS مادري/NOUN-MS دخل/V +ت/PRON و+/CONJ قاعد/NOUN-MS +ه/PRON اغني/NOUN-MS جاء/V و+/CONJ راي/NOUN-MS و+/CONJ خرعني/ADJ-MS وش/V هالصوت/NOUN-MS يابن/V +ت/PRON عمي/NOUN-FP و+/CONJ جلس/NOUN-MS +نا/PRON و+/CONJ بعد/NOUN-FS +ين/NSUFF طلع/V +ت/PRON بر/NOUN-MS +ا/CASE ادور/NOUN-MS دانا/NOUN-MS و+/CONJ في/PREP شباب/NOUN-MP جوني/NOUN-MS ال+/DET شاب/NOUN-MS وش/V ال+/DET زين/NOUN-MS كل/NOUN-MS +ه/PRON ال+/DET شاب/NOUN-MS ال+/DET ثاني/ADJ-MS يجن/NOUN-MS جسم/NOUN-MS +ك/PRON تعالى/V اركبي/NOUN-MS مع/NOUN-MS +نا/PRON طبع/PART +ا/CASE خفت/V اشوف/V ماجد/NOUN-MS جاي/NOUN-MS بعيد/NOUN-MS خير/NOUN-MS وش/V تب/NOUN-MS +ون/PRON ال+/DET بنيه/ADJ-MS قالو/NOUN-MS ال+/DET شباب/NOUN-MP و+/CONJ أنت/PRON وش/V دخل/NOUN-MS +ك/PRON وسحبوني/NOUN-MS و+/CONJ ماجد/NOUN-MS خلو/NOUN-MS زوج/NOUN-FS +ت/NSUFF +ي/PRON ياحمير/NOUN-MS و+/CONJ ال+/DET شباب/NOUN-MP انصدمو/NOUN-MS قالو/NOUN-MS زوح/NOUN-FS +ت/NSUFF +ك/PRON و+/CONJ راحو/NOUN-MS الحظ/NOUN-MS +ه/PRON احب/NOUN-MS +ه/PRON نورا/NOUN-MS طلع/NOUN-MS +نا/PRON نحب/V يادلال/NOUN-MS و+/CONJ عند/NOUN-MS +نا/PRON حرك/NOUN-FP +ات/NSUFF و+/CONJ دلال/NOUN-MS تو/NOUN-MS +ها/PRON ب+/PREP تكلم/NOUN-MS تدخل/NOUN-MS دانا/NOUN-MS دلال/NOUN-MS تحب/V ماجد/NOUN-MS و+/CONJ تصارخ/NOUN-MS و+/CONJ دلال/NOUN-MS و+/CONJ نور/NOUN-MS +ا/CASE يسكتونها/ADJ-MS نزل/V +ت/PRON ب+/PREP سرع/NOUN-MS +ه/PRON تحت/NOUN-MS ماجد/NOUN-MS ماجد/NOUN-MS ماجد/NOUN-MS مالق/NOUN-MP +ت/NSUFF +ه/PRON جت/NOUN-MS نورا/NOUN-MS عند/NOUN-MS +ها/PRON حبيب/NOUN-FS +ت/NSUFF +ي/PRON اعطي/NOUN-MS +ك/PRON حلاو/NOUN-MS +ه/PRON وماتعلمين/NOUN-MS أحد/NOUN-MS دانا/NOUN-MS فرح/NOUN-MS +ت/PRON ياله/NOUN-MS عطيني/NOUN-MS جت/NOUN-MS دلال/NOUN-MS نورا/NOUN-MS ياله/NOUN-MS رايح/NOUN-MS +ه/PRON و+/CONJ راح/V +ت/PRON و+/CONJ نور/NOUN-MS +ا/CASE راح/V +ت/PRON فتح/V +ت/PRON ال+/DET نت/NOUN-MS و+/CONJ دخل/V +ت/PRON ال+/DET ماسنجر/NOUN-MS و+/CONJ سولف/V +ت/PRON هيون/NOUN-FP هيون/NOUN-FP نورا/NOUN-MS اقولك/NOUN-MS توعديني/ADJ-MS ماتحطين/NOUN-MS بلوك/NOUN-MS دلي/V +ت/PRON نورا/NOUN-MS أوك/NOUN-MS وعد/NOUN-MS هيون/NOUN-FP نورا/NOUN-MS أخاف/V اخسر/NOUN-MS +ك/PRON قلتلك/NOUN-MS توقع/NOUN-FP +ات/NSUFF +كم/PRON هيون/NOUN-FP وش/V ب+/PREP تقول/V نورا/NOUN-MS هيون/NOUN-FP ب+/PREP تخسر/V نورا/NOUN-MS ايش/NOUN-MS ماجد/NOUN-MS عرف/NOUN-MS دلال/NOUN-MS تحب/V +ه/PRON وش/V راح/NOUN-MS يسوي/V دلال/NOUN-MS عرف/V +ت/PRON ماجد/NOUN-MS يلعب/V ال+/DET بن/NOUN-FP +ات/NSUFF راح/V تكر/V +ها/PRON ال+/DET ثاني/ADJ-MS هيون/NOUN-FP نورا/NOUN-MS أخاف/V اخسر/NOUN-MS +ك/PRON قلتلك/NOUN-MS نورا/NOUN-MS بد/V +ت/PRON تخاف/V مرتبك/ADJ-MS +ه/PRON ايش/NOUN-MS اخسر/NOUN-MS +ك/PRON هيون/NOUN-FP نورا/NOUN-MS مو/NOUN-MS بنت/NOUN-MS ولد/NOUN-MS نورا/NOUN-MS عصب/NOUN-FS +ت/NSUFF خير/ADJ-MS شاءاله/NOUN-MS شايفني/ADJ-MS لعب/V +ه/PRON عند/NOUN-MS +ك/PRON تلعب/V فين/NOUN-FS +ي/NSUFF و+/CONJ معليش/NOUN-MS راح/V احذفك/NOUN-MS هيون/NOUN-FP ل+/PREP ال+/DET الالا/NOUN-FP لحظ/NOUN-MS +ه/PRON شوي/NOUN-MS تحذفيني/NOUN-MS بقول/NOUN-MP +ك/PRON ال+/DET صراحه/ADJ-MS احبك/NOUN-MS و+/CONJ مابي/NOUN-MS اخسر/V +ك/PRON نورا/NOUN-MS يو/NOUN-MS +ه/PRON تحبني/NOUN-MS و+/CONJ أنت/PRON ماتعرفني/ADJ-MS مكن/V تفهمني/NOUN-MS هيون/NOUN-FP تذكر/NOUN-FS +ين/NSUFF ال+/DET يوم/NOUN-MS حي/NOUN-MS +ت/PRON بيت/NOUN-MS +كم/PRON و+/CONJ ماجد/NOUN-MS وان/NOUN-FS +ت/NSUFF +ي/PRON شفتيني/NOUN-MS و+/CONJ علطول/NOUN-MS طلع/NOUN-FS +ت/NSUFF +ي/PRON نورا/NOUN-MS يكون/NOUN-FP فراس/NOUN-MS صديق/NOUN-MS ماجد/NOUN-MS هيون/NOUN-FP حبي/NOUN-MS +ت/NSUFF +ك/PRON أول/ADJ-MS ماشفتك/NOUN-MS نورا/NOUN-MS باي/NOUN-MS ب+/PREP طلع/NOUN-MS و+/CONJ بكر/NOUN-MS +ا/CASE انش/ADJ-MS اءال/V +ه/PRON ب+/PREP دخل/NOUN-MS هيون/NOUN-FP باي/NOUN-MS نورا/NOUN-MS سكر/V +ت/PRON ال+/DET ابتوب/NOUN-MS و+/CONJ راح/V +ت/PRON دخل/V +ت/PRON غرف/NOUN-FS +ت/NSUFF +ها/PRON تفكر/V كلالامه/NOUN-MS صدق/NOUN-MS أول/ADJ-MS ماشفته/NOUN-MS تحرك/NOUN-MS داخلي/ADJ-MS أخاف/V ماجد/NOUN-MS قايل/NOUN-MS +ه/PRON يلعب/V علي/PREP أخاف/V ماجد/NOUN-MS بنت/NOUN-MS بنت/NOUN-MS و+/CONJ قطع/NOUN-MS تفكير/NOUN-MS +ها/PRON طق/NOUN-MS ال+/DET باب/NOUN-MS نورا/NOUN-MS مين/NOUN-MS ماجد/NOUN-MS ماجد/NOUN-MS افتح/V +ي/PRON نورا/NOUN-MS راح/V +ت/PRON و+/CONJ فتح/V +ت/PRON ال+/DET باب/NOUN-MS في/PREP +ك/PRON تبي/NOUN-MS ماجد/NOUN-MS نورا/NOUN-MS ابي/NOUN-MS من/PREP +ك/PRON ابي/NOUN-MS جوال/ADJ-MS +ك/PRON شوي/NOUN-MS علشان/NOUN-MS ب+/PREP تصل/V خوي/NOUN-FS +ت/NSUFF +ي/PRON نورا/NOUN-MS و+/CONJ ليش/NOUN-MS مو/NOUN-MS جوال/ADJ-MS +ك/PRON ماجد/NOUN-MS مادري/NOUN-MS وين/NOUN-MS +ه/PRON حطي/NOUN-FS +ت/NSUFF +ه/PRON ال+/DET طاوله/ADJ-MS رح/V +ت/PRON شوي/NOUN-MS و+/CONJ بعد/NOUN-FS +ين/NSUFF رجع/V +ت/PRON لقي/V +ت/PRON +ه/PRON نورا/NOUN-MS طيب/NOUN-MS خذ/V +ه/PRON و+/CONJ عط/V +ت/PRON +ه/PRON و+/CONJ ماجد/NOUN-MS ب+/PREP يطلع/V نورا/NOUN-MS وفق/NOUN-FS +ت/NSUFF +ه/PRON ماجد/NOUN-MS تلعب/V ال+/DET بن/NOUN-FP +ات/NSUFF ال+/DET ناس/NOUN-MP حرام/NOUN-MS ماجد/NOUN-MS عادي/ADJ-MS راض/ADJ-FS +ين/NSUFF و+/CONJ يقول/V +ون/PRON تعال/V اخطبني/NOUN-MS يحلم/V +ون/PRON جاء/V ناصر/NOUN-MS نورا/NOUN-MS ناصر/NOUN-MS نورا/NOUN-MS نورا/NOUN-MS حبيبي/NOUN-MS ناصر/NOUN-MS نورا/NOUN-MS بقول/NOUN-MP +ك/PRON نورا/NOUN-MS حبيبي/NOUN-MS وش/V بغي/NOUN-FS +ت/NSUFF ناصر/NOUN-MS واحد/NOUN-MS ال+/DET ثانوي/ADJ-MS شعر/V +ه/PRON طويل/ADJ-MS و+/CONJ صو/NOUN-FS +ت/NSUFF +ه/PRON مو/NOUN-MS ال+/DET أولاد/NOUN-MP نورا/NOUN-MS خافت/ADJ-MS حبيبي/NOUN-MS طيب/NOUN-MS وش/V سوالك/NOUN-FP ناصر/NOUN-MS ماسوى/NOUN-MS قال/V +ي/PRON وش/V راي/NOUN-MS +ك/PRON بكرا/NOUN-MS نطلع/NOUN-MS نروح/V نتغدا/V و+/CONJ بعد/NOUN-FS +ين/NSUFF نروح/V بيت/NOUN-MS +نا/PRON نورا/NOUN-MS ل+/PREP ال+/DET الالاحبيبي/NOUN-MS تروح/NOUN-MS مع/NOUN-MS +ها/PRON ترا/V +ه/PRON يكذب/V ناصر/NOUN-MS يفكر/V مو/NOUN-MS راح/NOUN-FS +ي/NSUFF و+/CONJ طلع/NOUN-MS نورا/NOUN-MS دخل/V +ت/PRON ال+/DET مسن/NOUN-MS و+/CONJ لق/V +ت/PRON فراس/NOUN-MS داخل/NOUN-MS فراس/V ها/PART +ي/PRON نورا/NOUN-MS فراس/NOUN-MS خلالاص/ADJ-MS أفهم/V ماحبك/NOUN-MS و+/CONJ ب+/PREP طلع/NOUN-MS عكر/ADJ-FS +ت/NSUFF مزاجي/NOUN-MP و+/CONJ طلع/V +ت/PRON و+/CONJ بعد/NOUN-MS يوم/NOUN-FS +ين/NSUFF دخل/V +ت/PRON ال+/DET مسن/NOUN-MS شاف/V +ت/PRON فراس/NOUN-MS متصل/ADJ-MS مكتوب/ADJ-MS ال+/DET نك/NOUN-MS حق/NOUN-MS +ه/PRON يقومك/NOUN-MS ب+/PREP ال+/DET سلامه/NOUN-MS يافراس/NOUN-MS بد/V +ت/PRON تخاف/V مين/NOUN-MS مع/NOUN-MS +ي/PRON فراس/NOUN-MS أخت/NOUN-MS فراس/ADJ-MS نورا/NOUN-MS ل+/PREP يش/NOUN-MS و+/CONJ في/PREP +ه/PRON فراس/V فراس/NOUN-MS اهى/NOUN-MS اهى/ADJ-MS اهى/NOUN-MS جلس/NOUN-MS يوم/NOUN-FS +ين/NSUFF ماياكل/ADJ-MS يشرب/V اهى/NOUN-MS اهى/NOUN-MS و+/CONJ طاح/NOUN-MS علي/PREP +نا/PRON ال+/DET يوم/NOUN-MS ال+/DET حين/NOUN-MS منوم/NOUN-MS ال+/DET مستشفى/NOUN-MS نورا/NOUN-MS خافت/ADJ-MS و+/CONJ تجمع/V +ت/PRON ال+/DET دموع/NOUN-FP عين/NOUN-MS +ها/PRON باي/NOUN-MS ب+/PREP طلع/NOUN-MS و+/CONJ طلع/V +ت/PRON بعد/NOUN-FS +ين/NSUFF راح/V +ت/PRON ماجد/NOUN-MS و+/CONJ سولف/V +ت/PRON مع/NOUN-MS +ه/PRON بعد/NOUN-FS +ين/NSUFF نسي/V +ت/PRON اقولك/NOUN-MS أحد/NOUN-MS اصدقايك/NOUN-MS ال+/DET مستشفى/NOUN-MS ماجد/NOUN-MS مدري/NOUN-MS ل+/PREP يش/NOUN-MS تسيل/NOUN-FS +ين/NSUFF نورا/NOUN-MS ها/PART +ه/PRON اشوف/NOUN-MS و+/CONJ جت/ADJ-MS مكالم/NOUN-MS +ه/PRON ماجد/NOUN-MS رقم/NOUN-MS غريب/ADJ-MS استغرب/V ورد/NOUN-MS ماجد/NOUN-MS الو/NOUN-MS هند/NOUN-MS الو/NOUN-MS ماجد/NOUN-MS مع/NOUN-MS +ي/PRON هند/NOUN-MS مكن/V نتقابل/V ل+/PREP اني/NOUN-MS بقول/NOUN-MP +ك/PRON مر/NOUN-MS +ه/PRON ضروري/NOUN-MS ماجد/NOUN-MS وين/NOUN-MS هند/NOUN-MS ال+/DET مكان/NOUN-MS بيتقابلون/NOUN-MS و+/CONJ ماجد/NOUN-MS علطول/NOUN-MS طلع/NOUN-MS و+/CONJ راح/NOUN-MS عند/NOUN-MS +ها/PRON ناصر/NOUN-MS قاعد/NOUN-MS يلعب/V جوال/ADJ-MS +ه/PRON جت/NOUN-MS دانا/NOUN-MS ناصر/NOUN-MS ناصر/NOUN-MS شوف/NOUN-FS +ي/NSUFF دانا/NOUN-MS اقولك/NOUN-MS ال+/DET حين/NOUN-MS مو/V رايق/NOUN-MS روح/NOUN-MS +ي/PRON أحد/NOUN-MS ثاني/ADJ-MS دانا/NOUN-MS اهى/NOUN-MS خلاص/NOUN-MS ماحبك/NOUN-MS ماحبك/NOUN-MS و+/CONJ راح/V +ت/PRON تركض/V غرف/NOUN-FS +ة/NSUFF ام/NOUN-MS +ها/PRON ماجد/NOUN-MS و+/CONJ شفي/NOUN-MS +ك/PRON حبيب/NOUN-FS +ت/NSUFF +ي/PRON دانا/NOUN-MS ماما/NOUN-MS بقول/NOUN-MP +ك/PRON ماجد/NOUN-MS و+/CONJ شو/NOUN-MS حبيب/NOUN-FS +ت/NSUFF +ي/PRON ال+/DET ثالث/ADJ-MS دانا/NOUN-MS ماما/NOUN-MS ال+/DET يوم/NOUN-MS ال+/DET مدرسه/NOUN-MS صديق/NOUN-FS +ت/NSUFF +ي/PRON ابو/NOUN-MS +ها/PRON مايجي/NOUN-MS ابد/NOUN-MS و+/CONJ يكره/V امي/FOREIGN ويكرهني/NOUN-MS بابا/NOUN-MS مايجي/NOUN-MS بابا/NOUN-MS مايحبني/NOUN-MS ياماما/NOUN-MS صح/NOUN-MS دخل/V ماجد/NOUN-MS طبع/NOUN-MS +ا/CASE سمع/V ال+/DET كلام/NOUN-MS دانا/NOUN-MS حبيب/NOUN-FS +ت/NSUFF +ي/PRON احبك/NOUN-MS مر/NOUN-MS +ه/PRON ماجي/ADJ-MS علشان/ADJ-MS اجيب/NOUN-MS فلوس/NOUN-FP واشتريلك/NOUN-MS ألعاب/NOUN-FP ماتبين/NOUN-MS دانا/NOUN-MS ابي/NOUN-MS ألعاب/NOUN-FP كثير/NOUN-MS ماجد/NOUN-MS طيب/NOUN-MS حبيب/NOUN-FS +ت/NSUFF +ي/PRON ياله/NOUN-MS روح/NOUN-MS +ي/PRON نامي/ADJ-MS و+/CONJ امك/ADJ-MS ال+/DET حين/NOUN-MS ب+/PREP نام/NOUN-MS دانا/NOUN-MS ثاءاله/ADJ-MS شاءاله/NOUN-MS ماجد/NOUN-MS و+/CONJ هند/NOUN-MS ماجد/NOUN-MS وش/V كنت/NOUN-FD +ي/NSUFF تبين/V من/PREP +ي/PRON هند/NOUN-MS بنت/NOUN-MS عم/NOUN-FS +ة/NSUFF فراس/ADJ-MS خوي/V +ك/PRON ماجد/NOUN-MS تو/NOUN-MS +ه/PRON ب+/PREP يتغزل/V اتراجع/NOUN-MS يوم/NOUN-MS عرف/NOUN-MS تقرب/V خوي/NOUN-MS +ه/PRON هند/NOUN-MS شوف/NOUN-MS بقول/NOUN-MP +ك/PRON نورا/NOUN-MS و+/CONJ فراس/NOUN-MS ماجد/NOUN-MS استغرب/V و+/CONJ شو/NOUN-MS هند/NOUN-MS شوف/NOUN-MS و+/CONJ فراس/NOUN-MS قريب/ADJ-MS راح/NOUN-MS نتزوج/V و+/CONJ نور/NOUN-MS +ا/CASE خذ/V +ت/PRON من/PREP +ي/PRON فراس/NOUN-MS ك+/PREP ليوم/NOUN-MS تكلم/NOUN-MS +ه/PRON ال+/DET يل/ADJ-MS و+/CONJ يطلع/V +ون/PRON ماجد/NOUN-MS عصب/NOUN-MS و+/CONJ راح/NOUN-MS ب+/PREP سرع/NOUN-MS +ه/PRON هند/NOUN-MS ال+/DET حمداله/NOUN-MS خلص/V +ت/PRON من/PREP +ك/PRON يانورا/NOUN-MS و+/CONJ ال+/DET حين/NOUN-MS فراس/V و+/CONJ محد/NOUN-MS يقدر/V ياخذ/NOUN-MS +ه/PRON من/PREP +ي/PRON نجح/V +ت/PRON الخط/NOUN-MS +ه/PRON ماجد/NOUN-MS يسرع/NOUN-FP و+/CONJ مالقى/NOUN-MS نفس/NOUN-MS +ه/PRON و+/CONJ دخل/V معصب/NOUN-MS و+/CONJ يصارخ/NOUN-MS نورا/NOUN-MS نورا/NOUN-MS نورا/NOUN-MS ماجد/NOUN-MS و+/CONJ أبو/NOUN-MS ماجد/NOUN-MS و+/CONJ ناصر/NOUN-MS علطول/NOUN-MS نزلو/NOUN-MS ماجد/NOUN-MS و+/CONJ شفي/NOUN-MS +ك/PRON ياماجد/NOUN-MS و+/CONJ شفي/NOUN-MS +ك/PRON وش/V مسوي/NOUN-MS +ه/PRON نورا/NOUN-MS ماجد/NOUN-MS شوف/NOUN-MS بنت/NOUN-MS +ك/PRON الشريف/NOUN-MS +ه/PRON وش/V مسوي/NOUN-MS +ه/PRON سود/NOUN-MS +ت/PRON وجه/NOUN-MS +نا/PRON يسود/V وجه/NOUN-MS +ا/CASE ماجد/NOUN-MS و+/CONJ شفي/NOUN-MS +ك/PRON ياوليدي/NOUN-MS قلي/NOUN-MS ماجد/NOUN-MS ترك/NOUN-MS +هم/PRON و+/CONJ راح/NOUN-MS غرف/NOUN-FS +ة/NSUFF نورا/NOUN-MS و+/CONJ دخل/NOUN-MS و+/CONJ ضرب/NOUN-MS +ها/PRON و+/CONJ ناصر/NOUN-MS يناضر/NOUN-MS منقهر/ADJ-MS اخو/V +ه/PRON لان/NOUN-MS +ه/PRON يموت/V نورا/NOUN-MS و+/CONJ مايحب/NOUN-MS أحد/NOUN-MS يزعل/V +ها/PRON و+/CONJ شاف/ADJ-MS جنب/NOUN-MS +ه/PRON زي/NOUN-MS ال+/DET مزهريه/NOUN-MS خذ/V +ها/PRON و+/CONJ رما/V +ها/PRON رأس/NOUN-MS ماجد/NOUN-MS و+/CONJ ماجد/NOUN-MS طاع/NOUN-MS مغمى/NOUN-MS و+/CONJ ناصر/NOUN-MS خاف/NOUN-MS و+/CONJ علطول/NOUN-MS طلع/NOUN-MS ال+/DET شارع/NOUN-MS ماجد/NOUN-MS و+/CONJ أبو/NOUN-MS ماجد/NOUN-MS و+/CONJ نور/NOUN-MS +ا/CASE علطول/ADJ-MS خذو/V ماجد/NOUN-MS ال+/DET مستشفى/NOUN-MS و+/CONJ دخلو/NOUN-MS +ه/PRON و+/CONJ ينتظر/V +ون/PRON و+/CONJ كل/NOUN-MS ماطول/NOUN-MS ال+/DET دكتور/NOUN-MS يخاف/V +ون/PRON طلع/NOUN-MS ال+/DET دكتور/NOUN-MS ماجد/NOUN-MS ها/PART +ه/PRON طمني/V و+/CONJ لدي/NOUN-MS ماجد/NOUN-MS يادكتور/NOUN-MS و+/CONJ لدي/NOUN-MS خطير/ADJ-MS نورا/NOUN-MS دكتور/NOUN-MS تكفى/NOUN-MS علمن/NOUN-FS +ي/NSUFF علمن/NOUN-FS +ي/NSUFF ال+/DET دكتور/NOUN-MS تطمنو/NOUN-MS ماجد/NOUN-MS مافي/NOUN-MS +ه/PRON و+/CONJ بعد/NOUN-MS شوي/NOUN-MS راح/NOUN-MS يصحى/NOUN-FP ماجد/NOUN-MS طيب/NOUN-MS مكن/V ندخل/V عند/NOUN-MS +ه/PRON كلام/NOUN-MS ال+/DET كاتبه/NOUN-MS بن/NOUN-FP +ات/NSUFF أسف/NOUN-MS +ه/PRON ماقدر/NOUN-MS أكمل/ADJ-MS ال+/DET رواي/NOUN-FS +ة/NSUFF ل+/PREP اني/NOUN-MS سوي/NOUN-FS +ت/NSUFF ف+/CONJ ورم/NOUN-FS +ات/NSUFF ل+/PREP ابتوبي/V ب+/PREP قول/NOUN-MS +كم/PRON وش/V ب+/PREP يصير/V فراس/NOUN-MS ب+/PREP يتزوج/V نورا/NOUN-MS طبع/NOUN-MS +ا/CASE ماتزوجو/ADJ-MS هند/NOUN-MS سحر/NOUN-MS +ت/PRON فراس/NOUN-MS و+/CONJ فراس/NOUN-MS كره/NOUN-MS نورا/NOUN-MS بعد/NOUN-FS +ين/NSUFF قرو/ADJ-MS و+/CONJ فكو/NOUN-MS ال+/DET سحر/NOUN-MS و+/CONJ هند/NOUN-MS حب/NOUN-MS +ت/PRON واحد/ADJ-MS و+/CONJ صار/V بين/NOUN-MS +هم/PRON مواقف/NOUN-FP و+/CONJ حب/NOUN-FS +ت/NSUFF +ه/PRON حب/NOUN-MS +ها/PRON و+/CONJ تزوجو/NOUN-MS و+/CONJ ماجد/NOUN-MS تزوج/V بنت/NOUN-MS عمه/NOUN-MS دلال/NOUN-MS ماكتشف/NOUN-MS تحب/V +ه/PRON و+/CONJ ترك/V ال+/DET حرك/NOUN-FP +ات/NSUFF يغازل/NOUN-MS بن/NOUN-FP +ات/NSUFF و+/CONJ سار/V +ا/PRON صديق/NOUN-FS +ت/NSUFF +ها/PRON دار/NOUN-MS ال+/DET أيتام/NOUN-MP وين/NOUN-MS اهلك/NOUN-MS سار/V +ا/PRON ماعندي/NOUN-MS عم/NOUN-MS و+/CONJ عط/NOUN-FS +ت/NSUFF +ها/PRON ال+/DET عنوان/NOUN-MS و+/CONJ صديق/NOUN-MS +ت/PRON سار/V +ا/PRON طبع/NOUN-MS +ا/CASE علم/V +ت/PRON مدير/NOUN-MP +ة/NSUFF ال+/DET دار/NOUN-MS و+/CONJ مدير/NOUN-MP +ة/NSUFF ال+/DET دار/NOUN-MS راح/V +ت/PRON عم/NOUN-MS سار/NOUN-MS +ا/CASE سار/NOUN-MS +ا/CASE عند/NOUN-MS +ها/PRON و+/CONJ عم/NOUN-MS سار/NOUN-MS +ا/PRON جاء/V سار/NOUN-MS +ا/CASE و+/CONJ خذ/V +ها/PRON اقناع/NOUN-MP و+/CONJ ناصر/NOUN-MS يوم/NOUN-MS شاف/ADJ-MS +ها/PRON ماصدق/NOUN-MS عمر/NOUN-MS +ه/PRON و+/CONJ بعد/NOUN-MS مرور/NOUN-MS سنو/NOUN-FP +ات/NSUFF فراس/ADJ-MS نورا/NOUN-MS جابو/NOUN-MS بنت/NOUN-FS +ين/NSUFF ولد/NOUN-MD +ين/NSUFF ال+/DET بنت/NOUN-MS نوف/NOUN-MS و+/CONJ مها/NOUN-FP و+/CONJ ال+/DET ولد/NOUN-MS يوسف/NOUN-FS و+/CONJ فهد/NOUN-MS ماجد/NOUN-MS دلال/NOUN-MS جابو/NOUN-MS بنت/NOUN-MS ولد/NOUN-MS ال+/DET بنت/NOUN-MS اسم/NOUN-MS +ها/PRON ملاك/NOUN-MS و+/CONJ ال+/DET ولد/NOUN-MS اسم/NOUN-MS +ه/PRON محمد/NOUN-MS علي/NOUN-MS هند/NOUN-MS جابو/NOUN-MS ولد/NOUN-MD +ين/NSUFF و+/CONJ بنت/NOUN-MS ال+/DET ولد/NOUN-MS خالد/NOUN-MS و+/CONJ ال+/DET بنت/NOUN-MS حل/NOUN-MS +ا/CASE و+/CONJ غلا/NOUN-MS ناصر/NOUN-MS سار/V +ا/PRON ماجابو/NOUN-MS سار/V +ا/PRON حامل/NOUN-MS طبع/NOUN-MS +ا/CASE أكيد/ADJ-MS ال+/DET حين/NOUN-MS تسيل/V +ون/PRON لمى/NOUN-MS لمى/NOUN-MS سافر/V +ت/PRON ال+/DET خارج/NOUN-MS علشان/NOUN-MS تكمل/V دارس/NOUN-FS +ت/NSUFF +ها/PRON و+/CONJ تأخذ/V ال+/DET ماجستير/NOUN-MS و+/CONJ ال+/DET دكتواره/NOUN-MS E/E\n"
          ],
          "name": "stdout"
        }
      ]
    },
    {
      "cell_type": "markdown",
      "metadata": {
        "id": "2j3uDEcAmwsB",
        "colab_type": "text"
      },
      "source": [
        "### 1. Characters Extraction"
      ]
    },
    {
      "cell_type": "markdown",
      "metadata": {
        "id": "m8Na3A2fGphL",
        "colab_type": "text"
      },
      "source": [
        "#### Extract names from wikipedia"
      ]
    },
    {
      "cell_type": "code",
      "metadata": {
        "id": "mjYPeJtO3PTA",
        "colab_type": "code",
        "colab": {}
      },
      "source": [
        "# Import names from wikipedia\n",
        "\n",
        "from bs4 import BeautifulSoup\n",
        "import requests\n",
        "url = \"https://ar.wikipedia.org/w/index.php?title=تصنيف:أسماء_إناث_عربية&pagefrom=ميرا+%28اسم%29#mw-pages\"\n",
        "r = requests.get(url)\n",
        "html_doc = r.text\n",
        "soup = BeautifulSoup(html_doc)"
      ],
      "execution_count": null,
      "outputs": []
    },
    {
      "cell_type": "code",
      "metadata": {
        "id": "ojvVC257A3mA",
        "colab_type": "code",
        "colab": {}
      },
      "source": [
        "female_names = []\n",
        "for link in soup.find_all('a'):\n",
        "  female_names.append(link.get('title'))\n"
      ],
      "execution_count": null,
      "outputs": []
    },
    {
      "cell_type": "markdown",
      "metadata": {
        "id": "jFqdtKxubqd_",
        "colab_type": "text"
      },
      "source": [
        "#### Extract characters from each story"
      ]
    },
    {
      "cell_type": "code",
      "metadata": {
        "id": "C50EKEPmB0G5",
        "colab_type": "code",
        "colab": {}
      },
      "source": [
        "# Read male and female names corpus\n",
        "\n",
        "with open('/content/drive/My Drive/data/Rewayatech/additional_data/female_names.txt', 'r') as f: \n",
        "  female_names = f.readlines()\n",
        "# دلال\n",
        "with open('/content/drive/My Drive/data/Rewayatech/additional_data/male_names.txt', 'r') as f: \n",
        "  male_names = f.readlines()  "
      ],
      "execution_count": null,
      "outputs": []
    },
    {
      "cell_type": "code",
      "metadata": {
        "id": "stthzlBWJBnG",
        "colab_type": "code",
        "colab": {}
      },
      "source": [
        "# Clean and normalize names\n",
        "\n",
        "remove_value_from_list_end_of_item(female_names, '\\n')\n",
        "remove_value_from_list_end_of_item(male_names, '\\n')\n",
        "\n",
        "#  names\n",
        "female_names = [normalize_arabic(element) for element in female_names]\n",
        "male_names = [normalize_arabic(element) for element in male_names]\n",
        "\n",
        "\n",
        "female_names = [element.strip() for element in female_names]\n",
        "male_names = [element.strip() for element in male_names]\n"
      ],
      "execution_count": null,
      "outputs": []
    },
    {
      "cell_type": "code",
      "metadata": {
        "id": "H1tQHnGYR8TK",
        "colab_type": "code",
        "colab": {}
      },
      "source": [
        "# Prepare dataframe to extract characters for each novel \n",
        "\n",
        "df_names = pd.DataFrame(columns=['title', 'names', 'count']) \n",
        "df_names['title'] = df_story['title']"
      ],
      "execution_count": null,
      "outputs": []
    },
    {
      "cell_type": "code",
      "metadata": {
        "id": "r-pbOysnQcOz",
        "colab_type": "code",
        "colab": {}
      },
      "source": [
        "# for all novels count top 30 words and store them if they are names\n",
        "\n",
        "from collections import Counter\n",
        "\n",
        "for i, s in tqdm(enumerate(df_story['text'])):\n",
        "  counter = Counter(s)\n",
        "  top_30_words = counter.most_common(30)\n",
        "  top_names = []\n",
        "  top_names_count = []\n",
        "  for (name, count) in top_30_words:\n",
        "    if name in (female_names + male_names):\n",
        "      top_names.append(name)\n",
        "      top_names_count.append(count)\n",
        "\n",
        "  df_names.iloc[i]['names'] = top_names\n",
        "  df_names.iloc[i]['count'] = top_names_count"
      ],
      "execution_count": null,
      "outputs": []
    },
    {
      "cell_type": "code",
      "metadata": {
        "id": "uRsn6SBhSj-y",
        "colab_type": "code",
        "colab": {
          "base_uri": "https://localhost:8080/",
          "height": 204
        },
        "outputId": "996049f9-d333-4e55-d119-dfc49fbc0e51"
      },
      "source": [
        "df_names.tail()"
      ],
      "execution_count": null,
      "outputs": [
        {
          "output_type": "execute_result",
          "data": {
            "text/html": [
              "<div>\n",
              "<style scoped>\n",
              "    .dataframe tbody tr th:only-of-type {\n",
              "        vertical-align: middle;\n",
              "    }\n",
              "\n",
              "    .dataframe tbody tr th {\n",
              "        vertical-align: top;\n",
              "    }\n",
              "\n",
              "    .dataframe thead th {\n",
              "        text-align: right;\n",
              "    }\n",
              "</style>\n",
              "<table border=\"1\" class=\"dataframe\">\n",
              "  <thead>\n",
              "    <tr style=\"text-align: right;\">\n",
              "      <th></th>\n",
              "      <th>title</th>\n",
              "      <th>names</th>\n",
              "      <th>count</th>\n",
              "    </tr>\n",
              "  </thead>\n",
              "  <tbody>\n",
              "    <tr>\n",
              "      <th>1264</th>\n",
              "      <td>تكفى ياولد الأجواد علمني منو أبوي ومنو أمي</td>\n",
              "      <td>[جود, مشعل, غناء, مشاعل, فهد, سناء, بدر, مها, ...</td>\n",
              "      <td>[1200, 1192, 922, 760, 587, 570, 420, 393, 366...</td>\n",
              "    </tr>\n",
              "    <tr>\n",
              "      <th>1265</th>\n",
              "      <td>ياسادة العشق يكفي للحب مدية كفي</td>\n",
              "      <td>[نوره, خالد, ابراهيم, فاطمه, ريم, ماجد, علي, م...</td>\n",
              "      <td>[498, 325, 74, 60, 55, 47, 47, 44, 37, 32, 31,...</td>\n",
              "    </tr>\n",
              "    <tr>\n",
              "      <th>1266</th>\n",
              "      <td>تصدقون زميلتي طلعت ولد</td>\n",
              "      <td>[هند, ساره]</td>\n",
              "      <td>[61, 44]</td>\n",
              "    </tr>\n",
              "    <tr>\n",
              "      <th>1267</th>\n",
              "      <td>الحديقة السرية</td>\n",
              "      <td>[حور, ياسر, جنا, بندر, تركي, هدى, نايف, مي, هن...</td>\n",
              "      <td>[1474, 1270, 583, 226, 224, 205, 192, 186, 185...</td>\n",
              "    </tr>\n",
              "    <tr>\n",
              "      <th>1268</th>\n",
              "      <td>أنا شوقي يزيد هيام كثر ما روحي عشقانة و أنا ...</td>\n",
              "      <td>[امل, اروى, ندى, خلود, مراد, فهد, احمد, جواد, ...</td>\n",
              "      <td>[823, 512, 452, 375, 324, 286, 278, 255, 100]</td>\n",
              "    </tr>\n",
              "  </tbody>\n",
              "</table>\n",
              "</div>"
            ],
            "text/plain": [
              "                                                  title  ...                                              count\n",
              "1264      تكفى ياولد الأجواد علمني منو أبوي ومنو أمي  ...  [1200, 1192, 922, 760, 587, 570, 420, 393, 366...\n",
              "1265                    ياسادة العشق يكفي للحب مدية كفي  ...  [498, 325, 74, 60, 55, 47, 47, 44, 37, 32, 31,...\n",
              "1266                             تصدقون زميلتي طلعت ولد  ...                                           [61, 44]\n",
              "1267                                     الحديقة السرية  ...  [1474, 1270, 583, 226, 224, 205, 192, 186, 185...\n",
              "1268  أنا شوقي يزيد هيام كثر ما روحي عشقانة و أنا ...  ...      [823, 512, 452, 375, 324, 286, 278, 255, 100]\n",
              "\n",
              "[5 rows x 3 columns]"
            ]
          },
          "metadata": {
            "tags": []
          },
          "execution_count": 168
        }
      ]
    },
    {
      "cell_type": "code",
      "metadata": {
        "id": "EL_25KJCcreZ",
        "colab_type": "code",
        "colab": {}
      },
      "source": [
        "df_names.to_csv(\"titles_names_count.csv\", index=False)"
      ],
      "execution_count": null,
      "outputs": []
    },
    {
      "cell_type": "markdown",
      "metadata": {
        "id": "HF9EYoWSbwxr",
        "colab_type": "text"
      },
      "source": [
        "#### Analyze the characters"
      ]
    },
    {
      "cell_type": "code",
      "metadata": {
        "id": "G_Iiu0wQ2YdK",
        "colab_type": "code",
        "colab": {}
      },
      "source": [
        "df_names = pd.read_csv('/content/drive/My Drive/data/Rewayatech/additional_data/titles_names_count.csv', converters={'names': eval})"
      ],
      "execution_count": null,
      "outputs": []
    },
    {
      "cell_type": "code",
      "metadata": {
        "id": "US6gaWIkcUDD",
        "colab_type": "code",
        "colab": {
          "base_uri": "https://localhost:8080/",
          "height": 204
        },
        "outputId": "269666fc-7b59-4861-d281-a7c133100d8d"
      },
      "source": [
        "df_names.head()"
      ],
      "execution_count": null,
      "outputs": [
        {
          "output_type": "execute_result",
          "data": {
            "text/html": [
              "<div>\n",
              "<style scoped>\n",
              "    .dataframe tbody tr th:only-of-type {\n",
              "        vertical-align: middle;\n",
              "    }\n",
              "\n",
              "    .dataframe tbody tr th {\n",
              "        vertical-align: top;\n",
              "    }\n",
              "\n",
              "    .dataframe thead th {\n",
              "        text-align: right;\n",
              "    }\n",
              "</style>\n",
              "<table border=\"1\" class=\"dataframe\">\n",
              "  <thead>\n",
              "    <tr style=\"text-align: right;\">\n",
              "      <th></th>\n",
              "      <th>title</th>\n",
              "      <th>names</th>\n",
              "      <th>count</th>\n",
              "    </tr>\n",
              "  </thead>\n",
              "  <tbody>\n",
              "    <tr>\n",
              "      <th>0</th>\n",
              "      <td>فتاة الخامسة عشر</td>\n",
              "      <td>[نواف, محمد, خالد, روان]</td>\n",
              "      <td>[169, 83, 31, 29]</td>\n",
              "    </tr>\n",
              "    <tr>\n",
              "      <th>1</th>\n",
              "      <td>تدرِي وش هو القرِف ؟ خاين و يحلف بالشرِف !</td>\n",
              "      <td>[شادن, رواء, مساعد, سعود, فيصل, ود, رفيف]</td>\n",
              "      <td>[696, 610, 355, 334, 124, 90, 65]</td>\n",
              "    </tr>\n",
              "    <tr>\n",
              "      <th>2</th>\n",
              "      <td>يزيد بي الصوع بذكرى كنت بها المنهاني</td>\n",
              "      <td>[غانم, حميد, مها, عبيد, مهره, راشد]</td>\n",
              "      <td>[1314, 299, 248, 170, 145, 136]</td>\n",
              "    </tr>\n",
              "    <tr>\n",
              "      <th>3</th>\n",
              "      <td>وشلون تهملني وأنا مهتم فيك هذا السؤال اللي ذ...</td>\n",
              "      <td>[قصي, ساره, ركان, سامي, اياد, بسام, شهد, عمر, ...</td>\n",
              "      <td>[1361, 725, 417, 309, 250, 163, 163, 111, 85, 82]</td>\n",
              "    </tr>\n",
              "    <tr>\n",
              "      <th>4</th>\n",
              "      <td>ما فادني زينة ما طالني غير شين فعوله</td>\n",
              "      <td>[حمد, خلود, ندى, مبارك, شوق, سعود, علي, ساره]</td>\n",
              "      <td>[670, 189, 179, 176, 115, 104, 102, 61]</td>\n",
              "    </tr>\n",
              "  </tbody>\n",
              "</table>\n",
              "</div>"
            ],
            "text/plain": [
              "                                               title  ...                                              count\n",
              "0                                   فتاة الخامسة عشر  ...                                  [169, 83, 31, 29]\n",
              "1         تدرِي وش هو القرِف ؟ خاين و يحلف بالشرِف !  ...                  [696, 610, 355, 334, 124, 90, 65]\n",
              "2               يزيد بي الصوع بذكرى كنت بها المنهاني  ...                    [1314, 299, 248, 170, 145, 136]\n",
              "3  وشلون تهملني وأنا مهتم فيك هذا السؤال اللي ذ...  ...  [1361, 725, 417, 309, 250, 163, 163, 111, 85, 82]\n",
              "4               ما فادني زينة ما طالني غير شين فعوله  ...            [670, 189, 179, 176, 115, 104, 102, 61]\n",
              "\n",
              "[5 rows x 3 columns]"
            ]
          },
          "metadata": {
            "tags": []
          },
          "execution_count": 39
        }
      ]
    },
    {
      "cell_type": "code",
      "metadata": {
        "id": "gfy8h0Np3868",
        "colab_type": "code",
        "colab": {}
      },
      "source": [
        "# Find the number of characters in each story\n",
        "df_names['characters_number'] = df_names['names'].apply(lambda x: len(x))"
      ],
      "execution_count": null,
      "outputs": []
    },
    {
      "cell_type": "code",
      "metadata": {
        "id": "TvyxVqb54ZRG",
        "colab_type": "code",
        "colab": {
          "base_uri": "https://localhost:8080/",
          "height": 51
        },
        "outputId": "18509897-ef84-4086-fff9-c6ac6f4f4375"
      },
      "source": [
        "# Find the story with highest number of characters\n",
        "df_names['title'][df_names['characters_number']== df_names['characters_number'].max()]"
      ],
      "execution_count": null,
      "outputs": [
        {
          "output_type": "execute_result",
          "data": {
            "text/plain": [
              "278    رواية جاني قال أحبك بعد ما أهاني و داس كرامت...\n",
              "Name: title, dtype: object"
            ]
          },
          "metadata": {
            "tags": []
          },
          "execution_count": 9
        }
      ]
    },
    {
      "cell_type": "code",
      "metadata": {
        "id": "DRqjlZq_61nL",
        "colab_type": "code",
        "colab": {
          "base_uri": "https://localhost:8080/",
          "height": 302
        },
        "outputId": "ea05c0a8-208b-42ad-ba22-de7d8940f08d"
      },
      "source": [
        "# Plot the number of characters for\n",
        "sns.distplot(df_names['characters_number'] , color=\"blue\", bins = 23, kde= True)"
      ],
      "execution_count": null,
      "outputs": [
        {
          "output_type": "execute_result",
          "data": {
            "text/plain": [
              "<matplotlib.axes._subplots.AxesSubplot at 0x7f235e183b70>"
            ]
          },
          "metadata": {
            "tags": []
          },
          "execution_count": 58
        },
        {
          "output_type": "display_data",
          "data": {
            "image/png": "[encoded data removed]",
            "text/plain": [
              "<Figure size 432x288 with 1 Axes>"
            ]
          },
          "metadata": {
            "tags": []
          }
        }
      ]
    },
    {
      "cell_type": "code",
      "metadata": {
        "id": "AyrILxFt7fG3",
        "colab_type": "code",
        "colab": {}
      },
      "source": [
        "# study the correlation between story length and the number of character\n",
        "df_names['story_length'] = df_story['text'].apply(lambda x: len(x))"
      ],
      "execution_count": null,
      "outputs": []
    },
    {
      "cell_type": "code",
      "metadata": {
        "id": "_gKe4GSi9W1I",
        "colab_type": "code",
        "colab": {
          "base_uri": "https://localhost:8080/",
          "height": 34
        },
        "outputId": "739033cc-2c72-4d62-86a6-743f25884917"
      },
      "source": [
        "df_names['characters_number'][df_names['characters_number']!= 0].corr(df_names['story_length'], method='pearson')"
      ],
      "execution_count": null,
      "outputs": [
        {
          "output_type": "execute_result",
          "data": {
            "text/plain": [
              "0.2022637580882161"
            ]
          },
          "metadata": {
            "tags": []
          },
          "execution_count": 74
        }
      ]
    },
    {
      "cell_type": "code",
      "metadata": {
        "id": "1wk2tRks6KN4",
        "colab_type": "code",
        "colab": {
          "base_uri": "https://localhost:8080/",
          "height": 285
        },
        "outputId": "4e100362-0dc2-4b05-af4b-e3bcd057bae4"
      },
      "source": [
        "# Plot the correlation\n",
        "\n",
        "cmap = sns.cubehelix_palette(rot=-.2, as_cmap=True)\n",
        "\n",
        "ax = sns.lineplot(x=df_names['characters_number'], y=df_names['story_length'],\n",
        "                     palette=cmap, sizes=(10, 200))"
      ],
      "execution_count": null,
      "outputs": [
        {
          "output_type": "display_data",
          "data": {
            "image/png": "[encoded data removed]",
            "text/plain": [
              "<Figure size 432x288 with 1 Axes>"
            ]
          },
          "metadata": {
            "tags": []
          }
        }
      ]
    },
    {
      "cell_type": "markdown",
      "metadata": {
        "id": "VDW5if0yUWiy",
        "colab_type": "text"
      },
      "source": [
        "#### Find the top male and female names"
      ]
    },
    {
      "cell_type": "code",
      "metadata": {
        "id": "f1ToUTcT8itP",
        "colab_type": "code",
        "colab": {
          "base_uri": "https://localhost:8080/",
          "height": 204
        },
        "outputId": "eafcd340-7dff-424c-f653-4abfb654666c"
      },
      "source": [
        "df_names.head()"
      ],
      "execution_count": null,
      "outputs": [
        {
          "output_type": "execute_result",
          "data": {
            "text/html": [
              "<div>\n",
              "<style scoped>\n",
              "    .dataframe tbody tr th:only-of-type {\n",
              "        vertical-align: middle;\n",
              "    }\n",
              "\n",
              "    .dataframe tbody tr th {\n",
              "        vertical-align: top;\n",
              "    }\n",
              "\n",
              "    .dataframe thead th {\n",
              "        text-align: right;\n",
              "    }\n",
              "</style>\n",
              "<table border=\"1\" class=\"dataframe\">\n",
              "  <thead>\n",
              "    <tr style=\"text-align: right;\">\n",
              "      <th></th>\n",
              "      <th>title</th>\n",
              "      <th>names</th>\n",
              "      <th>count</th>\n",
              "      <th>characters_number</th>\n",
              "    </tr>\n",
              "  </thead>\n",
              "  <tbody>\n",
              "    <tr>\n",
              "      <th>0</th>\n",
              "      <td>فتاة الخامسة عشر</td>\n",
              "      <td>[نواف, محمد, خالد, روان]</td>\n",
              "      <td>[169, 83, 31, 29]</td>\n",
              "      <td>4</td>\n",
              "    </tr>\n",
              "    <tr>\n",
              "      <th>1</th>\n",
              "      <td>تدرِي وش هو القرِف ؟ خاين و يحلف بالشرِف !</td>\n",
              "      <td>[شادن, رواء, مساعد, سعود, فيصل, ود, رفيف]</td>\n",
              "      <td>[696, 610, 355, 334, 124, 90, 65]</td>\n",
              "      <td>7</td>\n",
              "    </tr>\n",
              "    <tr>\n",
              "      <th>2</th>\n",
              "      <td>يزيد بي الصوع بذكرى كنت بها المنهاني</td>\n",
              "      <td>[غانم, حميد, مها, عبيد, مهره, راشد]</td>\n",
              "      <td>[1314, 299, 248, 170, 145, 136]</td>\n",
              "      <td>6</td>\n",
              "    </tr>\n",
              "    <tr>\n",
              "      <th>3</th>\n",
              "      <td>وشلون تهملني وأنا مهتم فيك هذا السؤال اللي ذ...</td>\n",
              "      <td>[قصي, ساره, ركان, سامي, اياد, بسام, شهد, عمر, ...</td>\n",
              "      <td>[1361, 725, 417, 309, 250, 163, 163, 111, 85, 82]</td>\n",
              "      <td>10</td>\n",
              "    </tr>\n",
              "    <tr>\n",
              "      <th>4</th>\n",
              "      <td>ما فادني زينة ما طالني غير شين فعوله</td>\n",
              "      <td>[حمد, خلود, ندى, مبارك, شوق, سعود, علي, ساره]</td>\n",
              "      <td>[670, 189, 179, 176, 115, 104, 102, 61]</td>\n",
              "      <td>8</td>\n",
              "    </tr>\n",
              "  </tbody>\n",
              "</table>\n",
              "</div>"
            ],
            "text/plain": [
              "                                               title  ... characters_number\n",
              "0                                   فتاة الخامسة عشر  ...                 4\n",
              "1         تدرِي وش هو القرِف ؟ خاين و يحلف بالشرِف !  ...                 7\n",
              "2               يزيد بي الصوع بذكرى كنت بها المنهاني  ...                 6\n",
              "3  وشلون تهملني وأنا مهتم فيك هذا السؤال اللي ذ...  ...                10\n",
              "4               ما فادني زينة ما طالني غير شين فعوله  ...                 8\n",
              "\n",
              "[5 rows x 4 columns]"
            ]
          },
          "metadata": {
            "tags": []
          },
          "execution_count": 8
        }
      ]
    },
    {
      "cell_type": "code",
      "metadata": {
        "id": "9ULre5r1NlEr",
        "colab_type": "code",
        "colab": {}
      },
      "source": [
        "# most common female and male name\n",
        "all_names = df_names['names'].sum()"
      ],
      "execution_count": null,
      "outputs": []
    },
    {
      "cell_type": "code",
      "metadata": {
        "id": "Y-bAxXoPeJS6",
        "colab_type": "code",
        "colab": {}
      },
      "source": [
        "name_counter = Counter(all_names)\n",
        "top_50_names = name_counter.most_common(50)\n",
        "\n",
        "top_names = []\n",
        "top_names_count = []\n",
        "for (name, count) in top_50_names:\n",
        "  top_names.append(name)\n",
        "  top_names_count.append(count)"
      ],
      "execution_count": null,
      "outputs": []
    },
    {
      "cell_type": "code",
      "metadata": {
        "id": "NMs9J9WGfgJN",
        "colab_type": "code",
        "colab": {}
      },
      "source": [
        "top_male_names = []\n",
        "top_male_count = []\n",
        "top_female_names = []\n",
        "top_female_count =[]\n",
        "\n",
        "for i, n in enumerate(top_50_names):\n",
        "  if n[0] in male_names:\n",
        "    top_male_names.append(n[0])\n",
        "    top_male_count.append(n[1])\n",
        "    \n",
        "  if n[0] in female_names:\n",
        "    top_female_names.append(n[0])\n",
        "    top_female_count.append(n[1])\n"
      ],
      "execution_count": null,
      "outputs": []
    },
    {
      "cell_type": "code",
      "metadata": {
        "id": "WRri2SK8eb9W",
        "colab_type": "code",
        "colab": {
          "base_uri": "https://localhost:8080/",
          "height": 554
        },
        "outputId": "a0c30fa0-a88f-421a-c733-c76f9c910be9"
      },
      "source": [
        "# plot most common male names\n",
        "labels = [get_display(arabic_reshaper.reshape(s.encode().decode('utf8'))) for s in top_male_names]\n",
        "values = top_male_count\n",
        "indexes = np.arange(len(labels))\n",
        "width = 1\n",
        "\n",
        "sns.set(style='whitegrid', rc={'figure.figsize':(15,8.27)})\n",
        "\n",
        "ax = sns.barplot(indexes, values, palette= \"Blues_d\")\n",
        "plt.xticks(indexes + width * 0.1, labels, rotation = 30)\n",
        "plt.tick_params(axis='x', labelsize=10)\n",
        "plt.title(\"Most common male names in novels\")"
      ],
      "execution_count": null,
      "outputs": [
        {
          "output_type": "execute_result",
          "data": {
            "text/plain": [
              "Text(0.5, 1.0, 'Most common male names in novels')"
            ]
          },
          "metadata": {
            "tags": []
          },
          "execution_count": 49
        },
        {
          "output_type": "display_data",
          "data": {
            "image/png": "[encoded data removed]",
            "text/plain": [
              "<Figure size 1080x595.44 with 1 Axes>"
            ]
          },
          "metadata": {
            "tags": []
          }
        }
      ]
    },
    {
      "cell_type": "code",
      "metadata": {
        "id": "9gnIcJq7kX0c",
        "colab_type": "code",
        "colab": {
          "base_uri": "https://localhost:8080/",
          "height": 547
        },
        "outputId": "730a3561-0ba7-4ab8-b3fa-78c3a1e61264"
      },
      "source": [
        "# Plot most common female names\n",
        "labels = [get_display(arabic_reshaper.reshape(s.encode().decode('utf8'))) for s in top_female_names]\n",
        "values = top_female_count\n",
        "indexes = np.arange(len(labels))\n",
        "width = 1\n",
        "\n",
        "sns.set(style='whitegrid', rc={'figure.figsize':(15,8.27)})\n",
        "ax = sns.barplot(indexes, values, palette= sns.cubehelix_palette(20, reverse=True))\n",
        "plt.xticks(indexes + width * 0.1, labels, rotation = 30)\n",
        "plt.tick_params(axis='x', labelsize=10)\n",
        "plt.title(\"Most common female names in novels\")"
      ],
      "execution_count": null,
      "outputs": [
        {
          "output_type": "execute_result",
          "data": {
            "text/plain": [
              "Text(0.5, 1.0, 'Most common female names in novels')"
            ]
          },
          "metadata": {
            "tags": []
          },
          "execution_count": 50
        },
        {
          "output_type": "display_data",
          "data": {
            "image/png": "[encoded data removed]",
            "text/plain": [
              "<Figure size 1080x595.44 with 1 Axes>"
            ]
          },
          "metadata": {
            "tags": []
          }
        }
      ]
    },
    {
      "cell_type": "code",
      "metadata": {
        "id": "b8cTjH-1qVEn",
        "colab_type": "code",
        "colab": {}
      },
      "source": [
        "temp_top_female_names = sum([[n] * c for n, c in zip(top_female_names, top_female_count)], [])\n",
        "temp_top_female_names = ' '.join(temp_top_female_names)"
      ],
      "execution_count": null,
      "outputs": []
    },
    {
      "cell_type": "code",
      "metadata": {
        "id": "fgN73C3-4Gne",
        "colab_type": "code",
        "colab": {}
      },
      "source": [
        "temp_top_male_names = sum([[n] * c for n, c in zip(top_male_names, top_male_count)], [])\n",
        "temp_top_male_names = ' '.join(temp_top_male_names)"
      ],
      "execution_count": null,
      "outputs": []
    },
    {
      "cell_type": "code",
      "metadata": {
        "id": "98-M1uNhortD",
        "colab_type": "code",
        "colab": {
          "base_uri": "https://localhost:8080/",
          "height": 215
        },
        "outputId": "e0b15a8b-dfb5-4f9d-f64e-5ff2f2c41536"
      },
      "source": [
        "# Plot the word-cloud for male names\n",
        "\n",
        "reshaped_texts = arabic_reshaper.reshape(temp_top_male_names)\n",
        "arabic_texts = get_display(reshaped_texts)\n",
        "\n",
        "\n",
        "wordcloud = WordCloud(font_path='/content/drive/My Drive/data/Rewayatech/NotoNaskhArabic-Regular.ttf', mode=\"RGBA\",max_words=19, width=700,\n",
        "                      collocations = False, height=300, background_color=\"white\", font_step=25, max_font_size=200).generate(arabic_texts)\n",
        "\n",
        "\n",
        "# create coloring from image\n",
        "color_mask = np.array(Image.open('/content/drive/My Drive/data/Rewayatech/additional_data/male_palette.png'))\n",
        "image_colors = ImageColorGenerator(color_mask)\n",
        "plt.figure(figsize=[7,7])\n",
        "plt.imshow(wordcloud.recolor(color_func=image_colors), interpolation=\"bilinear\")\n",
        "plt.axis(\"off\")\n",
        "\n",
        "#wordcloud.to_file(\"img/first_review.png\")"
      ],
      "execution_count": null,
      "outputs": [
        {
          "output_type": "execute_result",
          "data": {
            "text/plain": [
              "(-0.5, 699.5, 299.5, -0.5)"
            ]
          },
          "metadata": {
            "tags": []
          },
          "execution_count": 104
        },
        {
          "output_type": "display_data",
          "data": {
            "image/png": "[encoded data removed]",
            "text/plain": [
              "<Figure size 504x504 with 1 Axes>"
            ]
          },
          "metadata": {
            "tags": [],
            "needs_background": "light"
          }
        }
      ]
    },
    {
      "cell_type": "markdown",
      "metadata": {
        "id": "8YexlhFfWxo-",
        "colab_type": "text"
      },
      "source": [
        "#### Construct character interaction network\n",
        "\n"
      ]
    },
    {
      "cell_type": "code",
      "metadata": {
        "id": "9rVq-aX4X2Xd",
        "colab_type": "code",
        "colab": {}
      },
      "source": [
        "df_names =  pd.read_csv(\"/content/drive/My Drive/data/Rewayatech/additional_data/titles_names_count.csv\", converters={'names': eval, 'count': eval})"
      ],
      "execution_count": null,
      "outputs": []
    },
    {
      "cell_type": "code",
      "metadata": {
        "id": "JdBub49LCRHd",
        "colab_type": "code",
        "colab": {
          "base_uri": "https://localhost:8080/",
          "height": 204
        },
        "outputId": "b528183d-54e6-4153-9523-ecc0b5f08e61"
      },
      "source": [
        "df_names.head()"
      ],
      "execution_count": null,
      "outputs": [
        {
          "output_type": "execute_result",
          "data": {
            "text/html": [
              "<div>\n",
              "<style scoped>\n",
              "    .dataframe tbody tr th:only-of-type {\n",
              "        vertical-align: middle;\n",
              "    }\n",
              "\n",
              "    .dataframe tbody tr th {\n",
              "        vertical-align: top;\n",
              "    }\n",
              "\n",
              "    .dataframe thead th {\n",
              "        text-align: right;\n",
              "    }\n",
              "</style>\n",
              "<table border=\"1\" class=\"dataframe\">\n",
              "  <thead>\n",
              "    <tr style=\"text-align: right;\">\n",
              "      <th></th>\n",
              "      <th>title</th>\n",
              "      <th>names</th>\n",
              "      <th>count</th>\n",
              "    </tr>\n",
              "  </thead>\n",
              "  <tbody>\n",
              "    <tr>\n",
              "      <th>0</th>\n",
              "      <td>فتاة الخامسة عشر</td>\n",
              "      <td>[نواف, محمد, خالد, روان]</td>\n",
              "      <td>[169, 83, 31, 29]</td>\n",
              "    </tr>\n",
              "    <tr>\n",
              "      <th>1</th>\n",
              "      <td>تدرِي وش هو القرِف ؟ خاين و يحلف بالشرِف !</td>\n",
              "      <td>[شادن, رواء, مساعد, سعود, فيصل, ود, رفيف]</td>\n",
              "      <td>[696, 610, 355, 334, 124, 90, 65]</td>\n",
              "    </tr>\n",
              "    <tr>\n",
              "      <th>2</th>\n",
              "      <td>يزيد بي الصوع بذكرى كنت بها المنهاني</td>\n",
              "      <td>[غانم, حميد, مها, عبيد, مهره, راشد]</td>\n",
              "      <td>[1314, 299, 248, 170, 145, 136]</td>\n",
              "    </tr>\n",
              "    <tr>\n",
              "      <th>3</th>\n",
              "      <td>وشلون تهملني وأنا مهتم فيك هذا السؤال اللي ذ...</td>\n",
              "      <td>[قصي, ساره, ركان, سامي, اياد, بسام, شهد, عمر, ...</td>\n",
              "      <td>[1361, 725, 417, 309, 250, 163, 163, 111, 85, 82]</td>\n",
              "    </tr>\n",
              "    <tr>\n",
              "      <th>4</th>\n",
              "      <td>ما فادني زينة ما طالني غير شين فعوله</td>\n",
              "      <td>[حمد, خلود, ندى, مبارك, شوق, سعود, علي, ساره]</td>\n",
              "      <td>[670, 189, 179, 176, 115, 104, 102, 61]</td>\n",
              "    </tr>\n",
              "  </tbody>\n",
              "</table>\n",
              "</div>"
            ],
            "text/plain": [
              "                                               title  ...                                              count\n",
              "0                                   فتاة الخامسة عشر  ...                                  [169, 83, 31, 29]\n",
              "1         تدرِي وش هو القرِف ؟ خاين و يحلف بالشرِف !  ...                  [696, 610, 355, 334, 124, 90, 65]\n",
              "2               يزيد بي الصوع بذكرى كنت بها المنهاني  ...                    [1314, 299, 248, 170, 145, 136]\n",
              "3  وشلون تهملني وأنا مهتم فيك هذا السؤال اللي ذ...  ...  [1361, 725, 417, 309, 250, 163, 163, 111, 85, 82]\n",
              "4               ما فادني زينة ما طالني غير شين فعوله  ...            [670, 189, 179, 176, 115, 104, 102, 61]\n",
              "\n",
              "[5 rows x 3 columns]"
            ]
          },
          "metadata": {
            "tags": []
          },
          "execution_count": 328
        }
      ]
    },
    {
      "cell_type": "code",
      "metadata": {
        "id": "nWlTv9dV4uC4",
        "colab_type": "code",
        "colab": {}
      },
      "source": [
        "# Choose novel number to construct interaction network\n",
        "novel_no = 278"
      ],
      "execution_count": null,
      "outputs": []
    },
    {
      "cell_type": "code",
      "metadata": {
        "id": "HOMMKqm-A6JV",
        "colab_type": "code",
        "colab": {
          "base_uri": "https://localhost:8080/",
          "height": 408
        },
        "outputId": "eb5769a6-2041-432c-9e4c-c9d40f1ba8ef"
      },
      "source": [
        "# Extract main characters and their occurrence in the story\n",
        "characters = df_names['names'][novel_no].copy()\n",
        "top_names_count = df_names['count'][novel_no]"
      ],
      "execution_count": null,
      "outputs": [
        {
          "output_type": "execute_result",
          "data": {
            "text/plain": [
              "['منصور',\n",
              " 'فهد',\n",
              " 'هاني',\n",
              " 'ماجد',\n",
              " 'راكان',\n",
              " 'سلطان',\n",
              " 'نادر',\n",
              " 'وسام',\n",
              " 'نرجس',\n",
              " 'شجن',\n",
              " 'نجود',\n",
              " 'مرام',\n",
              " 'رحاب',\n",
              " 'فاديه',\n",
              " 'ابراهيم',\n",
              " 'افنان',\n",
              " 'بندر',\n",
              " 'نايف',\n",
              " 'بتول',\n",
              " 'عبدالعزيز',\n",
              " 'مها',\n",
              " 'محمود',\n",
              " 'ناصر']"
            ]
          },
          "metadata": {
            "tags": []
          },
          "execution_count": 336
        }
      ]
    },
    {
      "cell_type": "code",
      "metadata": {
        "id": "bi5V5KfWWavP",
        "colab_type": "code",
        "colab": {}
      },
      "source": [
        "# Extract the story\n",
        "story = df_story.iloc[novel_no]['text']"
      ],
      "execution_count": null,
      "outputs": []
    },
    {
      "cell_type": "code",
      "metadata": {
        "id": "v3zJJbkInnn8",
        "colab_type": "code",
        "colab": {}
      },
      "source": [
        "# Computer the interaction between characters\n",
        "\n",
        "window_size = 5\n",
        "\n",
        "def compute_interaction(character, other_characters):\n",
        "  other_characters = other_characters[::-1]\n",
        "  character_index = [i for i, e in enumerate(story) if e == character]\n",
        "  hit = 0\n",
        "  for p in other_characters:\n",
        "    for i in character_index:\n",
        "      start = max(0, i-window_size)\n",
        "      sentence = story[start:i+window_size+ 1]\n",
        "      if p in sentence:\n",
        "        hit += 1\n",
        "    if hit !=0:\n",
        "      interaction_list.append([character, p, hit])\n",
        "  return interaction_list  "
      ],
      "execution_count": null,
      "outputs": []
    },
    {
      "cell_type": "code",
      "metadata": {
        "id": "6UB3PUZ3YdYQ",
        "colab_type": "code",
        "cellView": "code",
        "colab": {}
      },
      "source": [
        "interaction_list = list()\n",
        "\n",
        "while characters:\n",
        " character = characters.pop()\n",
        " compute_interaction(character, characters)"
      ],
      "execution_count": null,
      "outputs": []
    },
    {
      "cell_type": "code",
      "metadata": {
        "id": "FwyldGlZaEnc",
        "colab_type": "code",
        "colab": {
          "base_uri": "https://localhost:8080/",
          "height": 1000
        },
        "outputId": "5bfad93d-1a66-460f-bb94-5bc61408f771"
      },
      "source": [
        "interaction_list"
      ],
      "execution_count": null,
      "outputs": [
        {
          "output_type": "execute_result",
          "data": {
            "text/plain": [
              "[['ناصر', 'مها', 3],\n",
              " ['ناصر', 'عبدالعزيز', 4],\n",
              " ['ناصر', 'بتول', 4],\n",
              " ['ناصر', 'نايف', 5],\n",
              " ['ناصر', 'بندر', 7],\n",
              " ['ناصر', 'افنان', 7],\n",
              " ['ناصر', 'ابراهيم', 8],\n",
              " ['ناصر', 'فاديه', 8],\n",
              " ['ناصر', 'رحاب', 9],\n",
              " ['ناصر', 'مرام', 11],\n",
              " ['ناصر', 'نجود', 11],\n",
              " ['ناصر', 'شجن', 11],\n",
              " ['ناصر', 'نرجس', 11],\n",
              " ['ناصر', 'وسام', 164],\n",
              " ['ناصر', 'نادر', 164],\n",
              " ['ناصر', 'سلطان', 165],\n",
              " ['ناصر', 'راكان', 165],\n",
              " ['ناصر', 'ماجد', 165],\n",
              " ['ناصر', 'هاني', 171],\n",
              " ['ناصر', 'فهد', 171],\n",
              " ['ناصر', 'منصور', 171],\n",
              " ['محمود', 'بتول', 199],\n",
              " ['محمود', 'نايف', 200],\n",
              " ['محمود', 'بندر', 200],\n",
              " ['محمود', 'افنان', 202],\n",
              " ['محمود', 'ابراهيم', 203],\n",
              " ['محمود', 'فاديه', 203],\n",
              " ['محمود', 'رحاب', 203],\n",
              " ['محمود', 'مرام', 204],\n",
              " ['محمود', 'نجود', 208],\n",
              " ['محمود', 'شجن', 208],\n",
              " ['محمود', 'نرجس', 208],\n",
              " ['محمود', 'وسام', 208],\n",
              " ['محمود', 'نادر', 209],\n",
              " ['محمود', 'سلطان', 209],\n",
              " ['محمود', 'راكان', 217],\n",
              " ['محمود', 'ماجد', 217],\n",
              " ['محمود', 'هاني', 218],\n",
              " ['محمود', 'فهد', 219],\n",
              " ['محمود', 'منصور', 219],\n",
              " ['مها', 'بندر', 1],\n",
              " ['مها', 'افنان', 13],\n",
              " ['مها', 'ابراهيم', 16],\n",
              " ['مها', 'فاديه', 17],\n",
              " ['مها', 'رحاب', 18],\n",
              " ['مها', 'مرام', 21],\n",
              " ['مها', 'نجود', 32],\n",
              " ['مها', 'شجن', 32],\n",
              " ['مها', 'نرجس', 34],\n",
              " ['مها', 'وسام', 34],\n",
              " ['مها', 'نادر', 35],\n",
              " ['مها', 'سلطان', 38],\n",
              " ['مها', 'راكان', 40],\n",
              " ['مها', 'ماجد', 40],\n",
              " ['مها', 'هاني', 41],\n",
              " ['مها', 'فهد', 275],\n",
              " ['مها', 'منصور', 276],\n",
              " ['عبدالعزيز', 'بتول', 1],\n",
              " ['عبدالعزيز', 'نايف', 2],\n",
              " ['عبدالعزيز', 'بندر', 2],\n",
              " ['عبدالعزيز', 'افنان', 3],\n",
              " ['عبدالعزيز', 'ابراهيم', 5],\n",
              " ['عبدالعزيز', 'فاديه', 7],\n",
              " ['عبدالعزيز', 'رحاب', 10],\n",
              " ['عبدالعزيز', 'مرام', 17],\n",
              " ['عبدالعزيز', 'نجود', 19],\n",
              " ['عبدالعزيز', 'شجن', 244],\n",
              " ['عبدالعزيز', 'نرجس', 245],\n",
              " ['عبدالعزيز', 'وسام', 246],\n",
              " ['عبدالعزيز', 'نادر', 248],\n",
              " ['عبدالعزيز', 'سلطان', 249],\n",
              " ['عبدالعزيز', 'راكان', 250],\n",
              " ['عبدالعزيز', 'ماجد', 274],\n",
              " ['عبدالعزيز', 'هاني', 276],\n",
              " ['عبدالعزيز', 'فهد', 281],\n",
              " ['عبدالعزيز', 'منصور', 286],\n",
              " ['بتول', 'نايف', 2],\n",
              " ['بتول', 'بندر', 5],\n",
              " ['بتول', 'افنان', 5],\n",
              " ['بتول', 'ابراهيم', 7],\n",
              " ['بتول', 'فاديه', 7],\n",
              " ['بتول', 'رحاب', 7],\n",
              " ['بتول', 'مرام', 7],\n",
              " ['بتول', 'نجود', 8],\n",
              " ['بتول', 'شجن', 10],\n",
              " ['بتول', 'نرجس', 10],\n",
              " ['بتول', 'وسام', 10],\n",
              " ['بتول', 'نادر', 10],\n",
              " ['بتول', 'سلطان', 12],\n",
              " ['بتول', 'راكان', 19],\n",
              " ['بتول', 'ماجد', 21],\n",
              " ['بتول', 'هاني', 23],\n",
              " ['بتول', 'فهد', 27],\n",
              " ['بتول', 'منصور', 27],\n",
              " ['نايف', 'بندر', 4],\n",
              " ['نايف', 'افنان', 6],\n",
              " ['نايف', 'ابراهيم', 7],\n",
              " ['نايف', 'فاديه', 9],\n",
              " ['نايف', 'رحاب', 13],\n",
              " ['نايف', 'مرام', 18],\n",
              " ['نايف', 'نجود', 208],\n",
              " ['نايف', 'شجن', 209],\n",
              " ['نايف', 'نرجس', 227],\n",
              " ['نايف', 'وسام', 241],\n",
              " ['نايف', 'نادر', 245],\n",
              " ['نايف', 'سلطان', 253],\n",
              " ['نايف', 'راكان', 257],\n",
              " ['نايف', 'ماجد', 258],\n",
              " ['نايف', 'هاني', 304],\n",
              " ['نايف', 'فهد', 312],\n",
              " ['نايف', 'منصور', 314],\n",
              " ['بندر', 'افنان', 60],\n",
              " ['بندر', 'ابراهيم', 62],\n",
              " ['بندر', 'فاديه', 92],\n",
              " ['بندر', 'رحاب', 94],\n",
              " ['بندر', 'مرام', 97],\n",
              " ['بندر', 'نجود', 100],\n",
              " ['بندر', 'شجن', 101],\n",
              " ['بندر', 'نرجس', 102],\n",
              " ['بندر', 'وسام', 104],\n",
              " ['بندر', 'نادر', 111],\n",
              " ['بندر', 'سلطان', 116],\n",
              " ['بندر', 'راكان', 238],\n",
              " ['بندر', 'ماجد', 240],\n",
              " ['بندر', 'هاني', 248],\n",
              " ['بندر', 'فهد', 257],\n",
              " ['بندر', 'منصور', 257],\n",
              " ['افنان', 'ابراهيم', 1],\n",
              " ['افنان', 'فاديه', 14],\n",
              " ['افنان', 'رحاب', 21],\n",
              " ['افنان', 'مرام', 24],\n",
              " ['افنان', 'نجود', 61],\n",
              " ['افنان', 'شجن', 77],\n",
              " ['افنان', 'نرجس', 99],\n",
              " ['افنان', 'وسام', 122],\n",
              " ['افنان', 'نادر', 141],\n",
              " ['افنان', 'سلطان', 158],\n",
              " ['افنان', 'راكان', 168],\n",
              " ['افنان', 'ماجد', 171],\n",
              " ['افنان', 'هاني', 232],\n",
              " ['افنان', 'فهد', 298],\n",
              " ['افنان', 'منصور', 302],\n",
              " ['ابراهيم', 'فاديه', 3],\n",
              " ['ابراهيم', 'رحاب', 5],\n",
              " ['ابراهيم', 'مرام', 249],\n",
              " ['ابراهيم', 'نجود', 252],\n",
              " ['ابراهيم', 'شجن', 255],\n",
              " ['ابراهيم', 'نرجس', 258],\n",
              " ['ابراهيم', 'وسام', 259],\n",
              " ['ابراهيم', 'نادر', 261],\n",
              " ['ابراهيم', 'سلطان', 263],\n",
              " ['ابراهيم', 'راكان', 266],\n",
              " ['ابراهيم', 'ماجد', 281],\n",
              " ['ابراهيم', 'هاني', 283],\n",
              " ['ابراهيم', 'فهد', 285],\n",
              " ['ابراهيم', 'منصور', 288],\n",
              " ['فاديه', 'رحاب', 3],\n",
              " ['فاديه', 'مرام', 9],\n",
              " ['فاديه', 'نجود', 26],\n",
              " ['فاديه', 'شجن', 44],\n",
              " ['فاديه', 'نرجس', 51],\n",
              " ['فاديه', 'وسام', 113],\n",
              " ['فاديه', 'نادر', 116],\n",
              " ['فاديه', 'سلطان', 120],\n",
              " ['فاديه', 'راكان', 154],\n",
              " ['فاديه', 'ماجد', 348],\n",
              " ['فاديه', 'هاني', 354],\n",
              " ['فاديه', 'فهد', 356],\n",
              " ['فاديه', 'منصور', 357],\n",
              " ['رحاب', 'مرام', 2],\n",
              " ['رحاب', 'نجود', 4],\n",
              " ['رحاب', 'شجن', 7],\n",
              " ['رحاب', 'نرجس', 9],\n",
              " ['رحاب', 'وسام', 9],\n",
              " ['رحاب', 'نادر', 12],\n",
              " ['رحاب', 'سلطان', 313],\n",
              " ['رحاب', 'راكان', 313],\n",
              " ['رحاب', 'ماجد', 318],\n",
              " ['رحاب', 'هاني', 318],\n",
              " ['رحاب', 'فهد', 372],\n",
              " ['رحاب', 'منصور', 374],\n",
              " ['مرام', 'نجود', 3],\n",
              " ['مرام', 'شجن', 27],\n",
              " ['مرام', 'نرجس', 27],\n",
              " ['مرام', 'وسام', 28],\n",
              " ['مرام', 'نادر', 30],\n",
              " ['مرام', 'سلطان', 32],\n",
              " ['مرام', 'راكان', 34],\n",
              " ['مرام', 'ماجد', 70],\n",
              " ['مرام', 'هاني', 71],\n",
              " ['مرام', 'فهد', 77],\n",
              " ['مرام', 'منصور', 82],\n",
              " ['نجود', 'شجن', 1],\n",
              " ['نجود', 'نرجس', 9],\n",
              " ['نجود', 'وسام', 26],\n",
              " ['نجود', 'نادر', 41],\n",
              " ['نجود', 'سلطان', 55],\n",
              " ['نجود', 'راكان', 61],\n",
              " ['نجود', 'ماجد', 68],\n",
              " ['نجود', 'هاني', 77],\n",
              " ['نجود', 'فهد', 118],\n",
              " ['نجود', 'منصور', 124],\n",
              " ['شجن', 'نرجس', 1],\n",
              " ['شجن', 'وسام', 6],\n",
              " ['شجن', 'نادر', 6],\n",
              " ['شجن', 'سلطان', 8],\n",
              " ['شجن', 'راكان', 14],\n",
              " ['شجن', 'ماجد', 125],\n",
              " ['شجن', 'هاني', 131],\n",
              " ['شجن', 'فهد', 135],\n",
              " ['شجن', 'منصور', 178],\n",
              " ['نرجس', 'وسام', 57],\n",
              " ['نرجس', 'نادر', 206],\n",
              " ['نرجس', 'سلطان', 208],\n",
              " ['نرجس', 'راكان', 212],\n",
              " ['نرجس', 'ماجد', 214],\n",
              " ['نرجس', 'هاني', 324],\n",
              " ['نرجس', 'فهد', 337],\n",
              " ['نرجس', 'منصور', 338],\n",
              " ['وسام', 'نادر', 2],\n",
              " ['وسام', 'سلطان', 5],\n",
              " ['وسام', 'راكان', 9],\n",
              " ['وسام', 'ماجد', 14],\n",
              " ['وسام', 'هاني', 116],\n",
              " ['وسام', 'فهد', 120],\n",
              " ['وسام', 'منصور', 121],\n",
              " ['نادر', 'سلطان', 78],\n",
              " ['نادر', 'راكان', 80],\n",
              " ['نادر', 'ماجد', 85],\n",
              " ['نادر', 'هاني', 90],\n",
              " ['نادر', 'فهد', 130],\n",
              " ['نادر', 'منصور', 132],\n",
              " ['سلطان', 'راكان', 4],\n",
              " ['سلطان', 'ماجد', 13],\n",
              " ['سلطان', 'هاني', 16],\n",
              " ['سلطان', 'فهد', 107],\n",
              " ['سلطان', 'منصور', 110],\n",
              " ['راكان', 'ماجد', 27],\n",
              " ['راكان', 'هاني', 38],\n",
              " ['راكان', 'فهد', 48],\n",
              " ['راكان', 'منصور', 52],\n",
              " ['ماجد', 'هاني', 9],\n",
              " ['ماجد', 'فهد', 18],\n",
              " ['ماجد', 'منصور', 53],\n",
              " ['هاني', 'فهد', 17],\n",
              " ['هاني', 'منصور', 51],\n",
              " ['فهد', 'منصور', 3]]"
            ]
          },
          "metadata": {
            "tags": []
          },
          "execution_count": 342
        }
      ]
    },
    {
      "cell_type": "code",
      "metadata": {
        "id": "9eF3po4xt7WS",
        "colab_type": "code",
        "colab": {
          "base_uri": "https://localhost:8080/",
          "height": 669
        },
        "outputId": "e799b491-e76f-457c-9d46-799f1a063655"
      },
      "source": [
        "# Save it as a dataframe\n",
        "interaction_df = pd.DataFrame(interaction_list, columns=['source', 'target', 'weight'])\n",
        "interaction_df['weight_inv'] = 1/interaction_df.weight\n",
        "interaction_df.head(20)"
      ],
      "execution_count": null,
      "outputs": [
        {
          "output_type": "execute_result",
          "data": {
            "text/html": [
              "<div>\n",
              "<style scoped>\n",
              "    .dataframe tbody tr th:only-of-type {\n",
              "        vertical-align: middle;\n",
              "    }\n",
              "\n",
              "    .dataframe tbody tr th {\n",
              "        vertical-align: top;\n",
              "    }\n",
              "\n",
              "    .dataframe thead th {\n",
              "        text-align: right;\n",
              "    }\n",
              "</style>\n",
              "<table border=\"1\" class=\"dataframe\">\n",
              "  <thead>\n",
              "    <tr style=\"text-align: right;\">\n",
              "      <th></th>\n",
              "      <th>source</th>\n",
              "      <th>target</th>\n",
              "      <th>weight</th>\n",
              "      <th>weight_inv</th>\n",
              "    </tr>\n",
              "  </thead>\n",
              "  <tbody>\n",
              "    <tr>\n",
              "      <th>0</th>\n",
              "      <td>ناصر</td>\n",
              "      <td>مها</td>\n",
              "      <td>3</td>\n",
              "      <td>0.333333</td>\n",
              "    </tr>\n",
              "    <tr>\n",
              "      <th>1</th>\n",
              "      <td>ناصر</td>\n",
              "      <td>عبدالعزيز</td>\n",
              "      <td>4</td>\n",
              "      <td>0.250000</td>\n",
              "    </tr>\n",
              "    <tr>\n",
              "      <th>2</th>\n",
              "      <td>ناصر</td>\n",
              "      <td>بتول</td>\n",
              "      <td>4</td>\n",
              "      <td>0.250000</td>\n",
              "    </tr>\n",
              "    <tr>\n",
              "      <th>3</th>\n",
              "      <td>ناصر</td>\n",
              "      <td>نايف</td>\n",
              "      <td>5</td>\n",
              "      <td>0.200000</td>\n",
              "    </tr>\n",
              "    <tr>\n",
              "      <th>4</th>\n",
              "      <td>ناصر</td>\n",
              "      <td>بندر</td>\n",
              "      <td>7</td>\n",
              "      <td>0.142857</td>\n",
              "    </tr>\n",
              "    <tr>\n",
              "      <th>5</th>\n",
              "      <td>ناصر</td>\n",
              "      <td>افنان</td>\n",
              "      <td>7</td>\n",
              "      <td>0.142857</td>\n",
              "    </tr>\n",
              "    <tr>\n",
              "      <th>6</th>\n",
              "      <td>ناصر</td>\n",
              "      <td>ابراهيم</td>\n",
              "      <td>8</td>\n",
              "      <td>0.125000</td>\n",
              "    </tr>\n",
              "    <tr>\n",
              "      <th>7</th>\n",
              "      <td>ناصر</td>\n",
              "      <td>فاديه</td>\n",
              "      <td>8</td>\n",
              "      <td>0.125000</td>\n",
              "    </tr>\n",
              "    <tr>\n",
              "      <th>8</th>\n",
              "      <td>ناصر</td>\n",
              "      <td>رحاب</td>\n",
              "      <td>9</td>\n",
              "      <td>0.111111</td>\n",
              "    </tr>\n",
              "    <tr>\n",
              "      <th>9</th>\n",
              "      <td>ناصر</td>\n",
              "      <td>مرام</td>\n",
              "      <td>11</td>\n",
              "      <td>0.090909</td>\n",
              "    </tr>\n",
              "    <tr>\n",
              "      <th>10</th>\n",
              "      <td>ناصر</td>\n",
              "      <td>نجود</td>\n",
              "      <td>11</td>\n",
              "      <td>0.090909</td>\n",
              "    </tr>\n",
              "    <tr>\n",
              "      <th>11</th>\n",
              "      <td>ناصر</td>\n",
              "      <td>شجن</td>\n",
              "      <td>11</td>\n",
              "      <td>0.090909</td>\n",
              "    </tr>\n",
              "    <tr>\n",
              "      <th>12</th>\n",
              "      <td>ناصر</td>\n",
              "      <td>نرجس</td>\n",
              "      <td>11</td>\n",
              "      <td>0.090909</td>\n",
              "    </tr>\n",
              "    <tr>\n",
              "      <th>13</th>\n",
              "      <td>ناصر</td>\n",
              "      <td>وسام</td>\n",
              "      <td>164</td>\n",
              "      <td>0.006098</td>\n",
              "    </tr>\n",
              "    <tr>\n",
              "      <th>14</th>\n",
              "      <td>ناصر</td>\n",
              "      <td>نادر</td>\n",
              "      <td>164</td>\n",
              "      <td>0.006098</td>\n",
              "    </tr>\n",
              "    <tr>\n",
              "      <th>15</th>\n",
              "      <td>ناصر</td>\n",
              "      <td>سلطان</td>\n",
              "      <td>165</td>\n",
              "      <td>0.006061</td>\n",
              "    </tr>\n",
              "    <tr>\n",
              "      <th>16</th>\n",
              "      <td>ناصر</td>\n",
              "      <td>راكان</td>\n",
              "      <td>165</td>\n",
              "      <td>0.006061</td>\n",
              "    </tr>\n",
              "    <tr>\n",
              "      <th>17</th>\n",
              "      <td>ناصر</td>\n",
              "      <td>ماجد</td>\n",
              "      <td>165</td>\n",
              "      <td>0.006061</td>\n",
              "    </tr>\n",
              "    <tr>\n",
              "      <th>18</th>\n",
              "      <td>ناصر</td>\n",
              "      <td>هاني</td>\n",
              "      <td>171</td>\n",
              "      <td>0.005848</td>\n",
              "    </tr>\n",
              "    <tr>\n",
              "      <th>19</th>\n",
              "      <td>ناصر</td>\n",
              "      <td>فهد</td>\n",
              "      <td>171</td>\n",
              "      <td>0.005848</td>\n",
              "    </tr>\n",
              "  </tbody>\n",
              "</table>\n",
              "</div>"
            ],
            "text/plain": [
              "   source     target  weight  weight_inv\n",
              "0    ناصر        مها       3    0.333333\n",
              "1    ناصر  عبدالعزيز       4    0.250000\n",
              "2    ناصر       بتول       4    0.250000\n",
              "3    ناصر       نايف       5    0.200000\n",
              "4    ناصر       بندر       7    0.142857\n",
              "5    ناصر      افنان       7    0.142857\n",
              "6    ناصر    ابراهيم       8    0.125000\n",
              "7    ناصر      فاديه       8    0.125000\n",
              "8    ناصر       رحاب       9    0.111111\n",
              "9    ناصر       مرام      11    0.090909\n",
              "10   ناصر       نجود      11    0.090909\n",
              "11   ناصر        شجن      11    0.090909\n",
              "12   ناصر       نرجس      11    0.090909\n",
              "13   ناصر       وسام     164    0.006098\n",
              "14   ناصر       نادر     164    0.006098\n",
              "15   ناصر      سلطان     165    0.006061\n",
              "16   ناصر      راكان     165    0.006061\n",
              "17   ناصر       ماجد     165    0.006061\n",
              "18   ناصر       هاني     171    0.005848\n",
              "19   ناصر        فهد     171    0.005848"
            ]
          },
          "metadata": {
            "tags": []
          },
          "execution_count": 343
        }
      ]
    },
    {
      "cell_type": "code",
      "metadata": {
        "id": "94EJFEHTW7JJ",
        "colab_type": "code",
        "colab": {}
      },
      "source": [
        "# Create a graph \n",
        "\n",
        "import networkx as nx\n",
        "import plotly.graph_objects as go\n",
        "\n",
        "\n",
        "# Creating an empty graph object\n",
        "G = nx.Graph()"
      ],
      "execution_count": null,
      "outputs": []
    },
    {
      "cell_type": "code",
      "metadata": {
        "id": "t9m72qzctq9k",
        "colab_type": "code",
        "colab": {}
      },
      "source": [
        "# Iterating through the DataFrame to add edges\n",
        "for _, edge in interaction_df.iterrows():\n",
        "    source = get_display(arabic_reshaper.reshape(edge['source']))\n",
        "    target = get_display(arabic_reshaper.reshape(edge['target']))\n",
        "    G.add_edge(source, target, weight=edge['weight'])"
      ],
      "execution_count": null,
      "outputs": []
    },
    {
      "cell_type": "code",
      "metadata": {
        "id": "IDMx0NDFYV_k",
        "colab_type": "code",
        "colab": {
          "base_uri": "https://localhost:8080/",
          "height": 102
        },
        "outputId": "c5e6ef44-6e55-4f82-8875-ee435159e10c"
      },
      "source": [
        "print(nx.info(G))"
      ],
      "execution_count": null,
      "outputs": [
        {
          "output_type": "stream",
          "text": [
            "Name: \n",
            "Type: Graph\n",
            "Number of nodes: 23\n",
            "Number of edges: 247\n",
            "Average degree:  21.4783\n"
          ],
          "name": "stdout"
        }
      ]
    },
    {
      "cell_type": "code",
      "metadata": {
        "id": "lMLWsyvtMJsQ",
        "colab_type": "code",
        "colab": {}
      },
      "source": [
        "# Characters name\n",
        "characters = df_names.iloc[novel_no]['names'].copy() "
      ],
      "execution_count": null,
      "outputs": []
    },
    {
      "cell_type": "code",
      "metadata": {
        "id": "rQc7Rec8o24u",
        "colab_type": "code",
        "colab": {}
      },
      "source": [
        "# Use count for the node size \n",
        "n_size = [i for i in top_names_count]\n",
        "n_size = list(reversed(n_size))"
      ],
      "execution_count": null,
      "outputs": []
    },
    {
      "cell_type": "code",
      "metadata": {
        "id": "UDIcvttcvk7J",
        "colab_type": "code",
        "colab": {
          "base_uri": "https://localhost:8080/",
          "height": 408
        },
        "outputId": "8a06d815-8d24-4f8d-8b41-d3b7f2cbe414"
      },
      "source": [
        "# Set the color based on the character sex\n",
        "\n",
        "n_color = ['pink' if i in female_names else 'skyblue' for i in characters]\n",
        "n_color"
      ],
      "execution_count": null,
      "outputs": [
        {
          "output_type": "execute_result",
          "data": {
            "text/plain": [
              "['skyblue',\n",
              " 'skyblue',\n",
              " 'skyblue',\n",
              " 'skyblue',\n",
              " 'skyblue',\n",
              " 'skyblue',\n",
              " 'skyblue',\n",
              " 'pink',\n",
              " 'pink',\n",
              " 'pink',\n",
              " 'pink',\n",
              " 'pink',\n",
              " 'pink',\n",
              " 'pink',\n",
              " 'skyblue',\n",
              " 'pink',\n",
              " 'skyblue',\n",
              " 'skyblue',\n",
              " 'pink',\n",
              " 'skyblue',\n",
              " 'pink',\n",
              " 'skyblue',\n",
              " 'skyblue']"
            ]
          },
          "metadata": {
            "tags": []
          },
          "execution_count": 357
        }
      ]
    },
    {
      "cell_type": "code",
      "metadata": {
        "id": "e-LIcCEfKryX",
        "colab_type": "code",
        "colab": {}
      },
      "source": [
        "#reserved_n_color = list(reversed(n_color))\n",
        "#reserved_n_color"
      ],
      "execution_count": null,
      "outputs": []
    },
    {
      "cell_type": "code",
      "metadata": {
        "id": "O6S6rYXYpud_",
        "colab_type": "code",
        "colab": {
          "base_uri": "https://localhost:8080/",
          "height": 846
        },
        "outputId": "66c9229e-bd81-4d17-b080-220d8d85e2a5"
      },
      "source": [
        "# Plot the interaction network\n",
        "\n",
        "plt.figure(figsize=(15, 15))\n",
        "plt.axis('off')\n",
        "plt.grid(b=None)\n",
        "nx.draw_networkx(G, node_color=n_color, node_size=n_size ,width=interaction_df['weight']/500, edge_cmap=plt.cm.Blues)"
      ],
      "execution_count": null,
      "outputs": [
        {
          "output_type": "display_data",
          "data": {
            "image/png": "[encoded data removed]",
            "text/plain": [
              "<Figure size 1080x1080 with 1 Axes>"
            ]
          },
          "metadata": {
            "tags": []
          }
        }
      ]
    },
    {
      "cell_type": "markdown",
      "metadata": {
        "id": "tHeZ3B7GqTwJ",
        "colab_type": "text"
      },
      "source": [
        "#### Analyzing Graph"
      ]
    },
    {
      "cell_type": "code",
      "metadata": {
        "id": "0R9TUHyJdKX9",
        "colab_type": "code",
        "colab": {
          "base_uri": "https://localhost:8080/",
          "height": 54
        },
        "outputId": "272e5035-71e4-4218-946e-6fe67912dea5"
      },
      "source": [
        "# Measuring the importance of a node in a network\n",
        "# Using: degree_centrality\n",
        "\n",
        "# Calculating the degree centrality\n",
        "deg_cen = nx.degree_centrality(G)\n",
        "\n",
        "# Sorting the dictionaries according to their degree centrality and storing the top 10\n",
        "sorted_deg_cen = sorted(deg_cen.items(), key=lambda x:x[1], reverse=True)[0:10]\n",
        "\n",
        "# Printing out the top 10 of book1 and book5\n",
        "print(sorted_deg_cen)"
      ],
      "execution_count": null,
      "outputs": [
        {
          "output_type": "stream",
          "text": [
            "[('ﻕﺭﺎﻃ', 1.0), ('ﺯﺍﻮﻓ', 1.0), ('ﺮﻳﺎﺸﺑ', 1.0), ('ﺮﺳﺎﻳ', 1.0), ('ﻥﺎﻨﻓﺍ', 1.0), ('ﻞﺼﻴﻓ', 0.9090909090909092), ('ﺱﺍﺮﻓ', 0.9090909090909092), ('ﺪﻤﺤﻣ', 0.9090909090909092), ('ﺪﻟﺎﺧ', 0.9090909090909092), ('ﺭﺍﺮﺑﺍ', 0.9090909090909092)]\n"
          ],
          "name": "stdout"
        }
      ]
    },
    {
      "cell_type": "code",
      "metadata": {
        "id": "PqcO5STyoL4O",
        "colab_type": "code",
        "colab": {}
      },
      "source": [
        "G_inv = nx.Graph()\n",
        "\n",
        "# Iterating through the DataFrame to add edges\n",
        "for _, edge in interaction_df.iterrows():\n",
        "    source = get_display(arabic_reshaper.reshape(edge['source']))\n",
        "    target = get_display(arabic_reshaper.reshape(edge['target']))\n",
        "    G_inv.add_edge(source, target, weight=edge['weight_inv'])"
      ],
      "execution_count": null,
      "outputs": []
    },
    {
      "cell_type": "code",
      "metadata": {
        "id": "yL4ZTUXPfTlV",
        "colab_type": "code",
        "colab": {
          "base_uri": "https://localhost:8080/",
          "height": 221
        },
        "outputId": "0d436b6e-2bcf-42e3-c37b-2972be8f3ae3"
      },
      "source": [
        "# Measuring the importance of a node in a network\n",
        "# Using: Betweeness centrality\n",
        "# This method finds nodes which are important in the network. A centrality method like Betweeness centrality finds nodes \n",
        "# which are structurally\n",
        "\n",
        "\n",
        "sorted(nx.betweenness_centrality(G).items(),\n",
        "       key=lambda x:x[1], reverse=True)[0:13]"
      ],
      "execution_count": null,
      "outputs": [
        {
          "output_type": "execute_result",
          "data": {
            "text/plain": [
              "[('ﻕﺭﺎﻃ', 0.010981240981240982),\n",
              " ('ﺯﺍﻮﻓ', 0.010981240981240982),\n",
              " ('ﺮﻳﺎﺸﺑ', 0.010981240981240982),\n",
              " ('ﺮﺳﺎﻳ', 0.010981240981240982),\n",
              " ('ﻥﺎﻨﻓﺍ', 0.010981240981240982),\n",
              " ('ﻞﺼﻴﻓ', 0.009163059163059163),\n",
              " ('ﺱﺍﺮﻓ', 0.009163059163059163),\n",
              " ('ﺭﺍﺮﺑﺍ', 0.006363636363636363),\n",
              " ('ﺪﻤﺤﻣ', 0.0038383838383838384),\n",
              " ('ﺪﻟﺎﺧ', 0.0038383838383838384),\n",
              " ('ﻥﺍﻭﺭ', 0.0018181818181818182),\n",
              " ('ﻱﺭﻮﺟ', 0.0018181818181818182)]"
            ]
          },
          "metadata": {
            "tags": []
          },
          "execution_count": 240
        }
      ]
    },
    {
      "cell_type": "code",
      "metadata": {
        "id": "wmOl_TRwfq00",
        "colab_type": "code",
        "colab": {
          "base_uri": "https://localhost:8080/",
          "height": 221
        },
        "outputId": "634ae4fd-156b-473e-dd15-5b93091a12a2"
      },
      "source": [
        "# Let's care about interactions now\n",
        "\n",
        "sorted(nx.betweenness_centrality(G_inv,\n",
        "       weight='weight_inv').items(),\n",
        "       key=lambda x:x[1], reverse=True)[0:12]"
      ],
      "execution_count": null,
      "outputs": [
        {
          "output_type": "execute_result",
          "data": {
            "text/plain": [
              "[('ﻕﺭﺎﻃ', 0.010981240981240982),\n",
              " ('ﺯﺍﻮﻓ', 0.010981240981240982),\n",
              " ('ﺮﻳﺎﺸﺑ', 0.010981240981240982),\n",
              " ('ﺮﺳﺎﻳ', 0.010981240981240982),\n",
              " ('ﻥﺎﻨﻓﺍ', 0.010981240981240982),\n",
              " ('ﻞﺼﻴﻓ', 0.009163059163059163),\n",
              " ('ﺱﺍﺮﻓ', 0.009163059163059163),\n",
              " ('ﺭﺍﺮﺑﺍ', 0.006363636363636363),\n",
              " ('ﺪﻤﺤﻣ', 0.0038383838383838384),\n",
              " ('ﺪﻟﺎﺧ', 0.0038383838383838384),\n",
              " ('ﻥﺍﻭﺭ', 0.0018181818181818182),\n",
              " ('ﻱﺭﻮﺟ', 0.0018181818181818182)]"
            ]
          },
          "metadata": {
            "tags": []
          },
          "execution_count": 241
        }
      ]
    },
    {
      "cell_type": "markdown",
      "metadata": {
        "id": "XSdNj4vHACgo",
        "colab_type": "text"
      },
      "source": [
        "### 2. Dialect Detection"
      ]
    },
    {
      "cell_type": "markdown",
      "metadata": {
        "id": "btzMi-i2q13D",
        "colab_type": "text"
      },
      "source": [
        "##### Create dialect annotation file\n",
        "\n",
        "This file is created using weakly supervised labeling with few manual annotation"
      ]
    },
    {
      "cell_type": "code",
      "metadata": {
        "id": "FRgCDaGihkRW",
        "colab_type": "code",
        "colab": {}
      },
      "source": [
        "def detect_dialect(story, dialect_words):\n",
        "    count=0\n",
        "    # loop through the list of words and see if they are in the dialect text\n",
        "    for word in story:\n",
        "      if word in dialect_words:\n",
        "        count+=1\n",
        "    \n",
        "    return count"
      ],
      "execution_count": null,
      "outputs": []
    },
    {
      "cell_type": "code",
      "metadata": {
        "id": "H_VAf8mY7bsJ",
        "colab_type": "code",
        "colab": {}
      },
      "source": [
        "### Weakly auto-label the novels\n",
        "\n",
        "uae_words = ['الساع','شحالك', 'شحالج', 'امايه', 'يرمس']\n",
        "fusha_words = ['أريد','لقد', '']\n",
        "iraq_words = ['فد', 'هسه', 'هسة']\n",
        "khalij_words = ['احبج', 'لج', 'عندج', 'شنو']\n",
        "saudi_words = ['عليتس','عندس', 'عندتس','احبتس']"
      ],
      "execution_count": null,
      "outputs": []
    },
    {
      "cell_type": "code",
      "metadata": {
        "id": "DaqyiOTZ3HNC",
        "colab_type": "code",
        "colab": {}
      },
      "source": [
        "df_dialects = pd.DataFrame(columns=['title', 'uae', 'fusha', 'iraqi','khaliji','saudi']) \n",
        "df_dialects['title'] = df_story['title']"
      ],
      "execution_count": null,
      "outputs": []
    },
    {
      "cell_type": "code",
      "metadata": {
        "id": "sfYZvuXLidM5",
        "colab_type": "code",
        "colab": {}
      },
      "source": [
        "df_dialects['uae'] = df_story['text'].apply(lambda x: detect_dialect(x, uae_words))"
      ],
      "execution_count": null,
      "outputs": []
    },
    {
      "cell_type": "code",
      "metadata": {
        "id": "j-tpof5xPiRT",
        "colab_type": "code",
        "colab": {}
      },
      "source": [
        "df_dialects['uae'][df_dialects['uae'] <= 10] = 0\n",
        "df_dialects['uae'][df_dialects['uae'] > 10] = 1"
      ],
      "execution_count": null,
      "outputs": []
    },
    {
      "cell_type": "code",
      "metadata": {
        "id": "g_MeX0AOnyjC",
        "colab_type": "code",
        "colab": {}
      },
      "source": [
        "df_dialects['fusha'] = df_story['text'].apply(lambda x: detect_dialect(x, fusha_words))"
      ],
      "execution_count": null,
      "outputs": []
    },
    {
      "cell_type": "code",
      "metadata": {
        "id": "7osr6QQ0pd0X",
        "colab_type": "code",
        "colab": {}
      },
      "source": [
        "df_dialects['fusha'][df_dialects['fusha'] <= 10] = 0\n",
        "df_dialects['fusha'][df_dialects['fusha'] > 10] = 1"
      ],
      "execution_count": null,
      "outputs": []
    },
    {
      "cell_type": "code",
      "metadata": {
        "id": "7AwBG80AoFle",
        "colab_type": "code",
        "colab": {}
      },
      "source": [
        "df_dialects['iraqi'] = df_story['text'].apply(lambda x: detect_dialect(x, iraq_words))"
      ],
      "execution_count": null,
      "outputs": []
    },
    {
      "cell_type": "code",
      "metadata": {
        "id": "0M_wB0uMpLJC",
        "colab_type": "code",
        "colab": {}
      },
      "source": [
        "df_dialects['iraqi'][df_dialects['iraqi'] <= 10] = 0\n",
        "df_dialects['iraqi'][df_dialects['iraqi'] > 10] = 1"
      ],
      "execution_count": null,
      "outputs": []
    },
    {
      "cell_type": "code",
      "metadata": {
        "id": "CVa_OcTiRlkc",
        "colab_type": "code",
        "colab": {}
      },
      "source": [
        "df_dialects['khaliji'] = df_story['text'].apply(lambda x: detect_dialect(x, kuwait_words))"
      ],
      "execution_count": null,
      "outputs": []
    },
    {
      "cell_type": "code",
      "metadata": {
        "id": "0zmO-u8KRqVo",
        "colab_type": "code",
        "colab": {}
      },
      "source": [
        "df_dialects['khaliji'][df_dialects['khaliji'] <= 10] = 0\n",
        "df_dialects['khaliji'][df_dialects['khaliji'] > 10] = 1"
      ],
      "execution_count": null,
      "outputs": []
    },
    {
      "cell_type": "code",
      "metadata": {
        "id": "qtMAjq0FHeF8",
        "colab_type": "code",
        "colab": {}
      },
      "source": [
        "df_dialects['saudi'] = df_story['text'].apply(lambda x: detect_dialect(x, khalij_words))"
      ],
      "execution_count": null,
      "outputs": []
    },
    {
      "cell_type": "code",
      "metadata": {
        "id": "23VYP2fJcDpB",
        "colab_type": "code",
        "colab": {}
      },
      "source": [
        "df_dialects['saudi'] [df_dialects['saudi']  < 10] = 0\n",
        "df_dialects['saudi'] [df_dialects['saudi']  > 10] = 1"
      ],
      "execution_count": null,
      "outputs": []
    },
    {
      "cell_type": "code",
      "metadata": {
        "id": "Ky35jZxKPWMY",
        "colab_type": "code",
        "colab": {}
      },
      "source": [
        "df_dialects.to_csv(\"titles_dialects.csv\", index=False)"
      ],
      "execution_count": null,
      "outputs": []
    },
    {
      "cell_type": "markdown",
      "metadata": {
        "id": "7erve2_oPUOg",
        "colab_type": "text"
      },
      "source": [
        "#### Dialects Detection"
      ]
    },
    {
      "cell_type": "code",
      "metadata": {
        "id": "YOVXpsEh6Ztq",
        "colab_type": "code",
        "colab": {}
      },
      "source": [
        "# Read Weakly annotatation files\n",
        "df_annotation = pd.read_csv('/content/drive/My Drive/data/Rewayatech/titles_dialects_final.csv')"
      ],
      "execution_count": null,
      "outputs": []
    },
    {
      "cell_type": "code",
      "metadata": {
        "id": "n2cSB2L3-m0S",
        "colab_type": "code",
        "colab": {
          "base_uri": "https://localhost:8080/",
          "height": 204
        },
        "outputId": "b0df39fc-bdca-4b54-f81d-9294e4945a5b"
      },
      "source": [
        "df_annotation.head()"
      ],
      "execution_count": null,
      "outputs": [
        {
          "output_type": "execute_result",
          "data": {
            "text/html": [
              "<div>\n",
              "<style scoped>\n",
              "    .dataframe tbody tr th:only-of-type {\n",
              "        vertical-align: middle;\n",
              "    }\n",
              "\n",
              "    .dataframe tbody tr th {\n",
              "        vertical-align: top;\n",
              "    }\n",
              "\n",
              "    .dataframe thead th {\n",
              "        text-align: right;\n",
              "    }\n",
              "</style>\n",
              "<table border=\"1\" class=\"dataframe\">\n",
              "  <thead>\n",
              "    <tr style=\"text-align: right;\">\n",
              "      <th></th>\n",
              "      <th>title</th>\n",
              "      <th>uae</th>\n",
              "      <th>fusha</th>\n",
              "      <th>iraqi</th>\n",
              "      <th>khaliji</th>\n",
              "      <th>saudi</th>\n",
              "    </tr>\n",
              "  </thead>\n",
              "  <tbody>\n",
              "    <tr>\n",
              "      <th>0</th>\n",
              "      <td>فتاة الخامسة عشر</td>\n",
              "      <td>0</td>\n",
              "      <td>1</td>\n",
              "      <td>0</td>\n",
              "      <td>0</td>\n",
              "      <td>0</td>\n",
              "    </tr>\n",
              "    <tr>\n",
              "      <th>1</th>\n",
              "      <td>تدرِي وش هو القرِف ؟ خاين و يحلف بالشرِف !</td>\n",
              "      <td>0</td>\n",
              "      <td>0</td>\n",
              "      <td>0</td>\n",
              "      <td>0</td>\n",
              "      <td>0</td>\n",
              "    </tr>\n",
              "    <tr>\n",
              "      <th>2</th>\n",
              "      <td>أمـوت ولا أموت ولا انتـظر موتي ؟</td>\n",
              "      <td>1</td>\n",
              "      <td>0</td>\n",
              "      <td>0</td>\n",
              "      <td>0</td>\n",
              "      <td>0</td>\n",
              "    </tr>\n",
              "    <tr>\n",
              "      <th>3</th>\n",
              "      <td>وشلون تهملني وأنا مهتم فيك هذا السؤال اللي ذ...</td>\n",
              "      <td>0</td>\n",
              "      <td>0</td>\n",
              "      <td>0</td>\n",
              "      <td>0</td>\n",
              "      <td>1</td>\n",
              "    </tr>\n",
              "    <tr>\n",
              "      <th>4</th>\n",
              "      <td>ما فادني زينة ما طالني غير شين فعوله</td>\n",
              "      <td>0</td>\n",
              "      <td>0</td>\n",
              "      <td>0</td>\n",
              "      <td>0</td>\n",
              "      <td>0</td>\n",
              "    </tr>\n",
              "  </tbody>\n",
              "</table>\n",
              "</div>"
            ],
            "text/plain": [
              "                                               title  uae  ...  khaliji  saudi\n",
              "0                                   فتاة الخامسة عشر    0  ...        0      0\n",
              "1         تدرِي وش هو القرِف ؟ خاين و يحلف بالشرِف !    0  ...        0      0\n",
              "2                 أمـوت ولا أموت ولا انتـظر موتي ؟    1  ...        0      0\n",
              "3  وشلون تهملني وأنا مهتم فيك هذا السؤال اللي ذ...    0  ...        0      1\n",
              "4               ما فادني زينة ما طالني غير شين فعوله    0  ...        0      0\n",
              "\n",
              "[5 rows x 6 columns]"
            ]
          },
          "metadata": {
            "tags": []
          },
          "execution_count": 149
        }
      ]
    },
    {
      "cell_type": "code",
      "metadata": {
        "id": "W3eELDne9bj9",
        "colab_type": "code",
        "colab": {
          "base_uri": "https://localhost:8080/",
          "height": 136
        },
        "outputId": "ef0c0a46-fa3e-4fc3-c538-4365ff8e8b67"
      },
      "source": [
        "df_annotation.count()"
      ],
      "execution_count": null,
      "outputs": [
        {
          "output_type": "execute_result",
          "data": {
            "text/plain": [
              "title      1237\n",
              "uae        1237\n",
              "fusha      1237\n",
              "iraqi      1237\n",
              "khaliji    1237\n",
              "saudi      1237\n",
              "dtype: int64"
            ]
          },
          "metadata": {
            "tags": []
          },
          "execution_count": 150
        }
      ]
    },
    {
      "cell_type": "code",
      "metadata": {
        "id": "22YRDmPDBmTY",
        "colab_type": "code",
        "colab": {}
      },
      "source": [
        "# Merge df_story and df_annotation\n",
        "df_dialects = pd.merge(df_story, df_annotation, on=\"title\") "
      ],
      "execution_count": null,
      "outputs": []
    },
    {
      "cell_type": "code",
      "metadata": {
        "id": "k1l2onufCLHx",
        "colab_type": "code",
        "colab": {}
      },
      "source": [
        "# Remove unlabeled novels\n",
        "df_dialects['sum'] =  df_dialects[['uae', 'fusha', 'iraqi','khaliji','saudi']].sum(axis=1) \n",
        "df_dialects.drop(df_dialects.loc[df_dialects['sum']==0].index, inplace=True)"
      ],
      "execution_count": null,
      "outputs": []
    },
    {
      "cell_type": "code",
      "metadata": {
        "id": "JXY9QFwmzO2W",
        "colab_type": "code",
        "colab": {
          "base_uri": "https://localhost:8080/",
          "height": 170
        },
        "outputId": "fdd38e50-df7a-4912-fc35-bca13d1c2ee6"
      },
      "source": [
        "# Number of annotated novels\n",
        "df_dialects.count()"
      ],
      "execution_count": null,
      "outputs": [
        {
          "output_type": "execute_result",
          "data": {
            "text/plain": [
              "text       530\n",
              "title      530\n",
              "uae        530\n",
              "fusha      530\n",
              "iraqi      530\n",
              "khaliji    530\n",
              "saudi      530\n",
              "sum        530\n",
              "dtype: int64"
            ]
          },
          "metadata": {
            "tags": []
          },
          "execution_count": 154
        }
      ]
    },
    {
      "cell_type": "code",
      "metadata": {
        "id": "WIchjYaiNHMD",
        "colab_type": "code",
        "colab": {}
      },
      "source": [
        "# Run this cell to convert lists into strings \n",
        "\n",
        "#df_dialects['text'] = df_dialects['text'].apply(lambda x:' '.join(x))"
      ],
      "execution_count": null,
      "outputs": []
    },
    {
      "cell_type": "code",
      "metadata": {
        "id": "wR2Wue9FE8c5",
        "colab_type": "code",
        "colab": {}
      },
      "source": [
        "# Map 0 and 1 in annotation file into numbers {0, 1, 2, 3, 4, 5}\n",
        "\n",
        "def map_label(u, f, i, k, s):\n",
        "  if u == 1:\n",
        "    return 0\n",
        "  elif f == 1:\n",
        "    return 1\n",
        "  elif i == 1:\n",
        "    return 2\n",
        "  elif k == 1:\n",
        "    return 3  \n",
        "  elif s == 1:\n",
        "    return 4                    "
      ],
      "execution_count": null,
      "outputs": []
    },
    {
      "cell_type": "code",
      "metadata": {
        "id": "BJb-V6ZWNltO",
        "colab_type": "code",
        "colab": {}
      },
      "source": [
        "df_dialects['target'] = df_dialects.apply(lambda row: map_label(row['uae'],  row['fusha'], row['iraqi'], row['khaliji'], row['saudi']), axis = 1)"
      ],
      "execution_count": null,
      "outputs": []
    },
    {
      "cell_type": "code",
      "metadata": {
        "id": "4q9Zf7rERt_A",
        "colab_type": "code",
        "colab": {}
      },
      "source": [
        "# Prepare data for training\n",
        "X_train, X_test, y_train, y_test = train_test_split(df_bert['text'], df_bert['target'], test_size=0.2, \n",
        "                                                    random_state=0, stratify=df_bert['target'])"
      ],
      "execution_count": null,
      "outputs": []
    },
    {
      "cell_type": "code",
      "metadata": {
        "id": "_jp0aULVR7KD",
        "colab_type": "code",
        "colab": {}
      },
      "source": [
        "Encoder = LabelEncoder()\n",
        "Train_Y = Encoder.fit_transform(y_train)\n",
        "Test_Y = Encoder.fit_transform(y_test)"
      ],
      "execution_count": null,
      "outputs": []
    },
    {
      "cell_type": "code",
      "metadata": {
        "id": "95qGp2o_W8OM",
        "colab_type": "code",
        "colab": {}
      },
      "source": [
        "# Apply TfidfVectorizer on the text\n",
        "\n",
        "Tfidf_vect = TfidfVectorizer(max_features=500)\n",
        "\n",
        "Tfidf_vect.fit(df_dialects['text'])\n",
        "Train_X_Tfidf = Tfidf_vect.transform(X_train)\n",
        "Test_X_Tfidf = Tfidf_vect.transform(X_test)"
      ],
      "execution_count": null,
      "outputs": []
    },
    {
      "cell_type": "code",
      "metadata": {
        "id": "XgGxaDaIYR_4",
        "colab_type": "code",
        "colab": {}
      },
      "source": [
        "# TSNE for visualizing\n",
        "tsne = TSNE(n_components= 2, random_state=0)\n",
        "tsne_obj = tsne.fit_transform(Train_X_Tfidf)"
      ],
      "execution_count": null,
      "outputs": []
    },
    {
      "cell_type": "code",
      "metadata": {
        "id": "d19fEg6LZxaZ",
        "colab_type": "code",
        "colab": {}
      },
      "source": [
        "df_tsne = pd.DataFrame({'X':tsne_obj[:,0], 'Y':tsne_obj[:,1],'target': y_train})"
      ],
      "execution_count": null,
      "outputs": []
    },
    {
      "cell_type": "code",
      "metadata": {
        "id": "dwFzuDlDf6rq",
        "colab_type": "code",
        "colab": {}
      },
      "source": [
        "# for visualizing legend\n",
        "df_tsne['label'] = df_tsne['target']\n",
        "df_tsne['label'] = df_tsne['label'].map({0: 'UAE', 1: 'Fusha', 2: 'Iraqi', 3: 'Khaliji', 4: 'Saudi'})"
      ],
      "execution_count": null,
      "outputs": []
    },
    {
      "cell_type": "code",
      "metadata": {
        "id": "_YjY8eb7fydC",
        "colab_type": "code",
        "colab": {
          "base_uri": "https://localhost:8080/",
          "height": 119
        },
        "outputId": "1441f78c-983f-41a2-9037-3112fb800b83"
      },
      "source": [
        "df_tsne.label.value_counts()"
      ],
      "execution_count": null,
      "outputs": [
        {
          "output_type": "execute_result",
          "data": {
            "text/plain": [
              "Saudi      173\n",
              "Khaliji    131\n",
              "UAE         89\n",
              "Fusha       26\n",
              "Iraqi        5\n",
              "Name: label, dtype: int64"
            ]
          },
          "metadata": {
            "tags": []
          },
          "execution_count": 167
        }
      ]
    },
    {
      "cell_type": "code",
      "metadata": {
        "id": "MwgHR6nwaSH6",
        "colab_type": "code",
        "colab": {
          "base_uri": "https://localhost:8080/",
          "height": 483
        },
        "outputId": "3025380a-5424-4a8b-9f28-ff0347f5a06e"
      },
      "source": [
        "plt.figure(figsize=(8, 8))\n",
        "plt.axis('off')\n",
        "plt.grid(b=None)\n",
        "\n",
        "sns.scatterplot(x ='X', y ='Y', hue='label', legend='full', palette=['green','red','orange','purple','dodgerblue'],\n",
        "                alpha = 0.8, data=df_tsne)\n"
      ],
      "execution_count": null,
      "outputs": [
        {
          "output_type": "execute_result",
          "data": {
            "text/plain": [
              "<matplotlib.axes._subplots.AxesSubplot at 0x7f72134b3630>"
            ]
          },
          "metadata": {
            "tags": []
          },
          "execution_count": 172
        },
        {
          "output_type": "display_data",
          "data": {
            "image/png": "[encoded data removed]",
            "text/plain": [
              "<Figure size 576x576 with 1 Axes>"
            ]
          },
          "metadata": {
            "tags": []
          }
        }
      ]
    },
    {
      "cell_type": "code",
      "metadata": {
        "id": "f_vVVAerTIhr",
        "colab_type": "code",
        "colab": {
          "base_uri": "https://localhost:8080/",
          "height": 34
        },
        "outputId": "b1329738-6c96-44ba-f8e6-278feacf53a2"
      },
      "source": [
        "from sklearn.naive_bayes import GaussianNB\n",
        "\n",
        "#Create a Gaussian Classifier\n",
        "nb_model = GaussianNB()\n",
        "\n",
        "# Train the model using the training sets\n",
        "nb_model.fit(Train_X_Tfidf.todense(), Train_Y)\n",
        "\n",
        "#Predict Output\n",
        "predictions_NB= nb_model.predict(Test_X_Tfidf.todense())\n",
        "print (\"Naive Bayes Accuracy Score -> \",accuracy_score(predictions_NB, Test_Y) * 100)"
      ],
      "execution_count": null,
      "outputs": [
        {
          "output_type": "stream",
          "text": [
            "Naive Bayes Accuracy Score ->  72.64150943396226\n"
          ],
          "name": "stdout"
        }
      ]
    }
  ]
}